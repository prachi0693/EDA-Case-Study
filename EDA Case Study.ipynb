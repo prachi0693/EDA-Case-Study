{
 "cells": [
  {
   "cell_type": "code",
   "execution_count": 78,
   "metadata": {},
   "outputs": [],
   "source": [
    "# Supress Warnings\n",
    "\n",
    "import warnings\n",
    "warnings.filterwarnings('ignore')"
   ]
  },
  {
   "cell_type": "code",
   "execution_count": 79,
   "metadata": {},
   "outputs": [],
   "source": [
    "# Import the numpy and pandas packages\n",
    "\n",
    "import numpy as np\n",
    "import pandas as pd\n",
    "\n",
    "import seaborn as sns\n",
    "import matplotlib.pyplot as plt"
   ]
  },
  {
   "cell_type": "markdown",
   "metadata": {},
   "source": [
    "### Import and read\n",
    "\n",
    "Import and read the loan Details database. Store it in a variable called `loanDetails`."
   ]
  },
  {
   "cell_type": "code",
   "execution_count": 80,
   "metadata": {},
   "outputs": [
    {
     "data": {
      "text/html": [
       "<div>\n",
       "<style scoped>\n",
       "    .dataframe tbody tr th:only-of-type {\n",
       "        vertical-align: middle;\n",
       "    }\n",
       "\n",
       "    .dataframe tbody tr th {\n",
       "        vertical-align: top;\n",
       "    }\n",
       "\n",
       "    .dataframe thead th {\n",
       "        text-align: right;\n",
       "    }\n",
       "</style>\n",
       "<table border=\"1\" class=\"dataframe\">\n",
       "  <thead>\n",
       "    <tr style=\"text-align: right;\">\n",
       "      <th></th>\n",
       "      <th>id</th>\n",
       "      <th>member_id</th>\n",
       "      <th>loan_amnt</th>\n",
       "      <th>funded_amnt</th>\n",
       "      <th>funded_amnt_inv</th>\n",
       "      <th>term</th>\n",
       "      <th>int_rate</th>\n",
       "      <th>installment</th>\n",
       "      <th>grade</th>\n",
       "      <th>sub_grade</th>\n",
       "      <th>...</th>\n",
       "      <th>num_tl_90g_dpd_24m</th>\n",
       "      <th>num_tl_op_past_12m</th>\n",
       "      <th>pct_tl_nvr_dlq</th>\n",
       "      <th>percent_bc_gt_75</th>\n",
       "      <th>pub_rec_bankruptcies</th>\n",
       "      <th>tax_liens</th>\n",
       "      <th>tot_hi_cred_lim</th>\n",
       "      <th>total_bal_ex_mort</th>\n",
       "      <th>total_bc_limit</th>\n",
       "      <th>total_il_high_credit_limit</th>\n",
       "    </tr>\n",
       "  </thead>\n",
       "  <tbody>\n",
       "    <tr>\n",
       "      <th>0</th>\n",
       "      <td>1077501</td>\n",
       "      <td>1296599</td>\n",
       "      <td>5000</td>\n",
       "      <td>5000</td>\n",
       "      <td>4975.0</td>\n",
       "      <td>36 months</td>\n",
       "      <td>10.65%</td>\n",
       "      <td>162.87</td>\n",
       "      <td>B</td>\n",
       "      <td>B2</td>\n",
       "      <td>...</td>\n",
       "      <td>NaN</td>\n",
       "      <td>NaN</td>\n",
       "      <td>NaN</td>\n",
       "      <td>NaN</td>\n",
       "      <td>0.0</td>\n",
       "      <td>0.0</td>\n",
       "      <td>NaN</td>\n",
       "      <td>NaN</td>\n",
       "      <td>NaN</td>\n",
       "      <td>NaN</td>\n",
       "    </tr>\n",
       "    <tr>\n",
       "      <th>1</th>\n",
       "      <td>1077430</td>\n",
       "      <td>1314167</td>\n",
       "      <td>2500</td>\n",
       "      <td>2500</td>\n",
       "      <td>2500.0</td>\n",
       "      <td>60 months</td>\n",
       "      <td>15.27%</td>\n",
       "      <td>59.83</td>\n",
       "      <td>C</td>\n",
       "      <td>C4</td>\n",
       "      <td>...</td>\n",
       "      <td>NaN</td>\n",
       "      <td>NaN</td>\n",
       "      <td>NaN</td>\n",
       "      <td>NaN</td>\n",
       "      <td>0.0</td>\n",
       "      <td>0.0</td>\n",
       "      <td>NaN</td>\n",
       "      <td>NaN</td>\n",
       "      <td>NaN</td>\n",
       "      <td>NaN</td>\n",
       "    </tr>\n",
       "    <tr>\n",
       "      <th>2</th>\n",
       "      <td>1077175</td>\n",
       "      <td>1313524</td>\n",
       "      <td>2400</td>\n",
       "      <td>2400</td>\n",
       "      <td>2400.0</td>\n",
       "      <td>36 months</td>\n",
       "      <td>15.96%</td>\n",
       "      <td>84.33</td>\n",
       "      <td>C</td>\n",
       "      <td>C5</td>\n",
       "      <td>...</td>\n",
       "      <td>NaN</td>\n",
       "      <td>NaN</td>\n",
       "      <td>NaN</td>\n",
       "      <td>NaN</td>\n",
       "      <td>0.0</td>\n",
       "      <td>0.0</td>\n",
       "      <td>NaN</td>\n",
       "      <td>NaN</td>\n",
       "      <td>NaN</td>\n",
       "      <td>NaN</td>\n",
       "    </tr>\n",
       "    <tr>\n",
       "      <th>3</th>\n",
       "      <td>1076863</td>\n",
       "      <td>1277178</td>\n",
       "      <td>10000</td>\n",
       "      <td>10000</td>\n",
       "      <td>10000.0</td>\n",
       "      <td>36 months</td>\n",
       "      <td>13.49%</td>\n",
       "      <td>339.31</td>\n",
       "      <td>C</td>\n",
       "      <td>C1</td>\n",
       "      <td>...</td>\n",
       "      <td>NaN</td>\n",
       "      <td>NaN</td>\n",
       "      <td>NaN</td>\n",
       "      <td>NaN</td>\n",
       "      <td>0.0</td>\n",
       "      <td>0.0</td>\n",
       "      <td>NaN</td>\n",
       "      <td>NaN</td>\n",
       "      <td>NaN</td>\n",
       "      <td>NaN</td>\n",
       "    </tr>\n",
       "    <tr>\n",
       "      <th>4</th>\n",
       "      <td>1075358</td>\n",
       "      <td>1311748</td>\n",
       "      <td>3000</td>\n",
       "      <td>3000</td>\n",
       "      <td>3000.0</td>\n",
       "      <td>60 months</td>\n",
       "      <td>12.69%</td>\n",
       "      <td>67.79</td>\n",
       "      <td>B</td>\n",
       "      <td>B5</td>\n",
       "      <td>...</td>\n",
       "      <td>NaN</td>\n",
       "      <td>NaN</td>\n",
       "      <td>NaN</td>\n",
       "      <td>NaN</td>\n",
       "      <td>0.0</td>\n",
       "      <td>0.0</td>\n",
       "      <td>NaN</td>\n",
       "      <td>NaN</td>\n",
       "      <td>NaN</td>\n",
       "      <td>NaN</td>\n",
       "    </tr>\n",
       "    <tr>\n",
       "      <th>5</th>\n",
       "      <td>1075269</td>\n",
       "      <td>1311441</td>\n",
       "      <td>5000</td>\n",
       "      <td>5000</td>\n",
       "      <td>5000.0</td>\n",
       "      <td>36 months</td>\n",
       "      <td>7.90%</td>\n",
       "      <td>156.46</td>\n",
       "      <td>A</td>\n",
       "      <td>A4</td>\n",
       "      <td>...</td>\n",
       "      <td>NaN</td>\n",
       "      <td>NaN</td>\n",
       "      <td>NaN</td>\n",
       "      <td>NaN</td>\n",
       "      <td>0.0</td>\n",
       "      <td>0.0</td>\n",
       "      <td>NaN</td>\n",
       "      <td>NaN</td>\n",
       "      <td>NaN</td>\n",
       "      <td>NaN</td>\n",
       "    </tr>\n",
       "    <tr>\n",
       "      <th>6</th>\n",
       "      <td>1069639</td>\n",
       "      <td>1304742</td>\n",
       "      <td>7000</td>\n",
       "      <td>7000</td>\n",
       "      <td>7000.0</td>\n",
       "      <td>60 months</td>\n",
       "      <td>15.96%</td>\n",
       "      <td>170.08</td>\n",
       "      <td>C</td>\n",
       "      <td>C5</td>\n",
       "      <td>...</td>\n",
       "      <td>NaN</td>\n",
       "      <td>NaN</td>\n",
       "      <td>NaN</td>\n",
       "      <td>NaN</td>\n",
       "      <td>0.0</td>\n",
       "      <td>0.0</td>\n",
       "      <td>NaN</td>\n",
       "      <td>NaN</td>\n",
       "      <td>NaN</td>\n",
       "      <td>NaN</td>\n",
       "    </tr>\n",
       "    <tr>\n",
       "      <th>7</th>\n",
       "      <td>1072053</td>\n",
       "      <td>1288686</td>\n",
       "      <td>3000</td>\n",
       "      <td>3000</td>\n",
       "      <td>3000.0</td>\n",
       "      <td>36 months</td>\n",
       "      <td>18.64%</td>\n",
       "      <td>109.43</td>\n",
       "      <td>E</td>\n",
       "      <td>E1</td>\n",
       "      <td>...</td>\n",
       "      <td>NaN</td>\n",
       "      <td>NaN</td>\n",
       "      <td>NaN</td>\n",
       "      <td>NaN</td>\n",
       "      <td>0.0</td>\n",
       "      <td>0.0</td>\n",
       "      <td>NaN</td>\n",
       "      <td>NaN</td>\n",
       "      <td>NaN</td>\n",
       "      <td>NaN</td>\n",
       "    </tr>\n",
       "    <tr>\n",
       "      <th>8</th>\n",
       "      <td>1071795</td>\n",
       "      <td>1306957</td>\n",
       "      <td>5600</td>\n",
       "      <td>5600</td>\n",
       "      <td>5600.0</td>\n",
       "      <td>60 months</td>\n",
       "      <td>21.28%</td>\n",
       "      <td>152.39</td>\n",
       "      <td>F</td>\n",
       "      <td>F2</td>\n",
       "      <td>...</td>\n",
       "      <td>NaN</td>\n",
       "      <td>NaN</td>\n",
       "      <td>NaN</td>\n",
       "      <td>NaN</td>\n",
       "      <td>0.0</td>\n",
       "      <td>0.0</td>\n",
       "      <td>NaN</td>\n",
       "      <td>NaN</td>\n",
       "      <td>NaN</td>\n",
       "      <td>NaN</td>\n",
       "    </tr>\n",
       "    <tr>\n",
       "      <th>9</th>\n",
       "      <td>1071570</td>\n",
       "      <td>1306721</td>\n",
       "      <td>5375</td>\n",
       "      <td>5375</td>\n",
       "      <td>5350.0</td>\n",
       "      <td>60 months</td>\n",
       "      <td>12.69%</td>\n",
       "      <td>121.45</td>\n",
       "      <td>B</td>\n",
       "      <td>B5</td>\n",
       "      <td>...</td>\n",
       "      <td>NaN</td>\n",
       "      <td>NaN</td>\n",
       "      <td>NaN</td>\n",
       "      <td>NaN</td>\n",
       "      <td>0.0</td>\n",
       "      <td>0.0</td>\n",
       "      <td>NaN</td>\n",
       "      <td>NaN</td>\n",
       "      <td>NaN</td>\n",
       "      <td>NaN</td>\n",
       "    </tr>\n",
       "  </tbody>\n",
       "</table>\n",
       "<p>10 rows × 111 columns</p>\n",
       "</div>"
      ],
      "text/plain": [
       "        id  member_id  loan_amnt  funded_amnt  funded_amnt_inv        term  \\\n",
       "0  1077501    1296599       5000         5000           4975.0   36 months   \n",
       "1  1077430    1314167       2500         2500           2500.0   60 months   \n",
       "2  1077175    1313524       2400         2400           2400.0   36 months   \n",
       "3  1076863    1277178      10000        10000          10000.0   36 months   \n",
       "4  1075358    1311748       3000         3000           3000.0   60 months   \n",
       "5  1075269    1311441       5000         5000           5000.0   36 months   \n",
       "6  1069639    1304742       7000         7000           7000.0   60 months   \n",
       "7  1072053    1288686       3000         3000           3000.0   36 months   \n",
       "8  1071795    1306957       5600         5600           5600.0   60 months   \n",
       "9  1071570    1306721       5375         5375           5350.0   60 months   \n",
       "\n",
       "  int_rate  installment grade sub_grade            ...              \\\n",
       "0   10.65%       162.87     B        B2            ...               \n",
       "1   15.27%        59.83     C        C4            ...               \n",
       "2   15.96%        84.33     C        C5            ...               \n",
       "3   13.49%       339.31     C        C1            ...               \n",
       "4   12.69%        67.79     B        B5            ...               \n",
       "5    7.90%       156.46     A        A4            ...               \n",
       "6   15.96%       170.08     C        C5            ...               \n",
       "7   18.64%       109.43     E        E1            ...               \n",
       "8   21.28%       152.39     F        F2            ...               \n",
       "9   12.69%       121.45     B        B5            ...               \n",
       "\n",
       "  num_tl_90g_dpd_24m num_tl_op_past_12m pct_tl_nvr_dlq  percent_bc_gt_75  \\\n",
       "0                NaN                NaN            NaN               NaN   \n",
       "1                NaN                NaN            NaN               NaN   \n",
       "2                NaN                NaN            NaN               NaN   \n",
       "3                NaN                NaN            NaN               NaN   \n",
       "4                NaN                NaN            NaN               NaN   \n",
       "5                NaN                NaN            NaN               NaN   \n",
       "6                NaN                NaN            NaN               NaN   \n",
       "7                NaN                NaN            NaN               NaN   \n",
       "8                NaN                NaN            NaN               NaN   \n",
       "9                NaN                NaN            NaN               NaN   \n",
       "\n",
       "  pub_rec_bankruptcies tax_liens tot_hi_cred_lim total_bal_ex_mort  \\\n",
       "0                  0.0       0.0             NaN               NaN   \n",
       "1                  0.0       0.0             NaN               NaN   \n",
       "2                  0.0       0.0             NaN               NaN   \n",
       "3                  0.0       0.0             NaN               NaN   \n",
       "4                  0.0       0.0             NaN               NaN   \n",
       "5                  0.0       0.0             NaN               NaN   \n",
       "6                  0.0       0.0             NaN               NaN   \n",
       "7                  0.0       0.0             NaN               NaN   \n",
       "8                  0.0       0.0             NaN               NaN   \n",
       "9                  0.0       0.0             NaN               NaN   \n",
       "\n",
       "  total_bc_limit total_il_high_credit_limit  \n",
       "0            NaN                        NaN  \n",
       "1            NaN                        NaN  \n",
       "2            NaN                        NaN  \n",
       "3            NaN                        NaN  \n",
       "4            NaN                        NaN  \n",
       "5            NaN                        NaN  \n",
       "6            NaN                        NaN  \n",
       "7            NaN                        NaN  \n",
       "8            NaN                        NaN  \n",
       "9            NaN                        NaN  \n",
       "\n",
       "[10 rows x 111 columns]"
      ]
     },
     "execution_count": 80,
     "metadata": {},
     "output_type": "execute_result"
    }
   ],
   "source": [
    "# importing the csv file here\n",
    "loanDetails = pd.read_csv(\"loan.csv\")\n",
    "loanDetails.head(10)"
   ]
  },
  {
   "cell_type": "code",
   "execution_count": 81,
   "metadata": {},
   "outputs": [
    {
     "data": {
      "text/plain": [
       "True"
      ]
     },
     "execution_count": 81,
     "metadata": {},
     "output_type": "execute_result"
    }
   ],
   "source": [
    "# make sure that number of duplicate rows are zero\n",
    "sum(loanDetails.duplicated(subset = \"id\")) == 0"
   ]
  },
  {
   "cell_type": "markdown",
   "metadata": {},
   "source": [
    "### Inspect the dataframe\n",
    "\n",
    "Inspect the dataframe's columns, shapes, variable types etc."
   ]
  },
  {
   "cell_type": "code",
   "execution_count": 82,
   "metadata": {},
   "outputs": [
    {
     "name": "stdout",
     "output_type": "stream",
     "text": [
      "(39717, 111)\n"
     ]
    }
   ],
   "source": [
    "# the shape of the dataset\n",
    "print(loanDetails.shape)"
   ]
  },
  {
   "cell_type": "code",
   "execution_count": 83,
   "metadata": {},
   "outputs": [
    {
     "name": "stdout",
     "output_type": "stream",
     "text": [
      "Index(['id', 'member_id', 'loan_amnt', 'funded_amnt', 'funded_amnt_inv',\n",
      "       'term', 'int_rate', 'installment', 'grade', 'sub_grade',\n",
      "       ...\n",
      "       'num_tl_90g_dpd_24m', 'num_tl_op_past_12m', 'pct_tl_nvr_dlq',\n",
      "       'percent_bc_gt_75', 'pub_rec_bankruptcies', 'tax_liens',\n",
      "       'tot_hi_cred_lim', 'total_bal_ex_mort', 'total_bc_limit',\n",
      "       'total_il_high_credit_limit'],\n",
      "      dtype='object', length=111)\n"
     ]
    }
   ],
   "source": [
    "# the columns of the dataset\n",
    "print(loanDetails.columns)"
   ]
  },
  {
   "cell_type": "code",
   "execution_count": 84,
   "metadata": {},
   "outputs": [
    {
     "name": "stdout",
     "output_type": "stream",
     "text": [
      "<class 'pandas.core.frame.DataFrame'>\n",
      "RangeIndex: 39717 entries, 0 to 39716\n",
      "Columns: 111 entries, id to total_il_high_credit_limit\n",
      "dtypes: float64(74), int64(13), object(24)\n",
      "memory usage: 33.6+ MB\n",
      "None\n"
     ]
    }
   ],
   "source": [
    "# code for printing the variable types of the dataset\n",
    "print(loanDetails.info())"
   ]
  },
  {
   "cell_type": "code",
   "execution_count": 85,
   "metadata": {},
   "outputs": [
    {
     "data": {
      "text/html": [
       "<div>\n",
       "<style scoped>\n",
       "    .dataframe tbody tr th:only-of-type {\n",
       "        vertical-align: middle;\n",
       "    }\n",
       "\n",
       "    .dataframe tbody tr th {\n",
       "        vertical-align: top;\n",
       "    }\n",
       "\n",
       "    .dataframe thead th {\n",
       "        text-align: right;\n",
       "    }\n",
       "</style>\n",
       "<table border=\"1\" class=\"dataframe\">\n",
       "  <thead>\n",
       "    <tr style=\"text-align: right;\">\n",
       "      <th></th>\n",
       "      <th>id</th>\n",
       "      <th>member_id</th>\n",
       "      <th>loan_amnt</th>\n",
       "      <th>funded_amnt</th>\n",
       "      <th>funded_amnt_inv</th>\n",
       "      <th>term</th>\n",
       "      <th>int_rate</th>\n",
       "      <th>installment</th>\n",
       "      <th>grade</th>\n",
       "      <th>sub_grade</th>\n",
       "      <th>...</th>\n",
       "      <th>num_tl_90g_dpd_24m</th>\n",
       "      <th>num_tl_op_past_12m</th>\n",
       "      <th>pct_tl_nvr_dlq</th>\n",
       "      <th>percent_bc_gt_75</th>\n",
       "      <th>pub_rec_bankruptcies</th>\n",
       "      <th>tax_liens</th>\n",
       "      <th>tot_hi_cred_lim</th>\n",
       "      <th>total_bal_ex_mort</th>\n",
       "      <th>total_bc_limit</th>\n",
       "      <th>total_il_high_credit_limit</th>\n",
       "    </tr>\n",
       "  </thead>\n",
       "  <tbody>\n",
       "    <tr>\n",
       "      <th>0</th>\n",
       "      <td>1077501</td>\n",
       "      <td>1296599</td>\n",
       "      <td>5000</td>\n",
       "      <td>5000</td>\n",
       "      <td>4975.0</td>\n",
       "      <td>36 months</td>\n",
       "      <td>10.65%</td>\n",
       "      <td>162.87</td>\n",
       "      <td>B</td>\n",
       "      <td>B2</td>\n",
       "      <td>...</td>\n",
       "      <td>NaN</td>\n",
       "      <td>NaN</td>\n",
       "      <td>NaN</td>\n",
       "      <td>NaN</td>\n",
       "      <td>0.0</td>\n",
       "      <td>0.0</td>\n",
       "      <td>NaN</td>\n",
       "      <td>NaN</td>\n",
       "      <td>NaN</td>\n",
       "      <td>NaN</td>\n",
       "    </tr>\n",
       "    <tr>\n",
       "      <th>1</th>\n",
       "      <td>1077430</td>\n",
       "      <td>1314167</td>\n",
       "      <td>2500</td>\n",
       "      <td>2500</td>\n",
       "      <td>2500.0</td>\n",
       "      <td>60 months</td>\n",
       "      <td>15.27%</td>\n",
       "      <td>59.83</td>\n",
       "      <td>C</td>\n",
       "      <td>C4</td>\n",
       "      <td>...</td>\n",
       "      <td>NaN</td>\n",
       "      <td>NaN</td>\n",
       "      <td>NaN</td>\n",
       "      <td>NaN</td>\n",
       "      <td>0.0</td>\n",
       "      <td>0.0</td>\n",
       "      <td>NaN</td>\n",
       "      <td>NaN</td>\n",
       "      <td>NaN</td>\n",
       "      <td>NaN</td>\n",
       "    </tr>\n",
       "    <tr>\n",
       "      <th>2</th>\n",
       "      <td>1077175</td>\n",
       "      <td>1313524</td>\n",
       "      <td>2400</td>\n",
       "      <td>2400</td>\n",
       "      <td>2400.0</td>\n",
       "      <td>36 months</td>\n",
       "      <td>15.96%</td>\n",
       "      <td>84.33</td>\n",
       "      <td>C</td>\n",
       "      <td>C5</td>\n",
       "      <td>...</td>\n",
       "      <td>NaN</td>\n",
       "      <td>NaN</td>\n",
       "      <td>NaN</td>\n",
       "      <td>NaN</td>\n",
       "      <td>0.0</td>\n",
       "      <td>0.0</td>\n",
       "      <td>NaN</td>\n",
       "      <td>NaN</td>\n",
       "      <td>NaN</td>\n",
       "      <td>NaN</td>\n",
       "    </tr>\n",
       "    <tr>\n",
       "      <th>3</th>\n",
       "      <td>1076863</td>\n",
       "      <td>1277178</td>\n",
       "      <td>10000</td>\n",
       "      <td>10000</td>\n",
       "      <td>10000.0</td>\n",
       "      <td>36 months</td>\n",
       "      <td>13.49%</td>\n",
       "      <td>339.31</td>\n",
       "      <td>C</td>\n",
       "      <td>C1</td>\n",
       "      <td>...</td>\n",
       "      <td>NaN</td>\n",
       "      <td>NaN</td>\n",
       "      <td>NaN</td>\n",
       "      <td>NaN</td>\n",
       "      <td>0.0</td>\n",
       "      <td>0.0</td>\n",
       "      <td>NaN</td>\n",
       "      <td>NaN</td>\n",
       "      <td>NaN</td>\n",
       "      <td>NaN</td>\n",
       "    </tr>\n",
       "    <tr>\n",
       "      <th>4</th>\n",
       "      <td>1075358</td>\n",
       "      <td>1311748</td>\n",
       "      <td>3000</td>\n",
       "      <td>3000</td>\n",
       "      <td>3000.0</td>\n",
       "      <td>60 months</td>\n",
       "      <td>12.69%</td>\n",
       "      <td>67.79</td>\n",
       "      <td>B</td>\n",
       "      <td>B5</td>\n",
       "      <td>...</td>\n",
       "      <td>NaN</td>\n",
       "      <td>NaN</td>\n",
       "      <td>NaN</td>\n",
       "      <td>NaN</td>\n",
       "      <td>0.0</td>\n",
       "      <td>0.0</td>\n",
       "      <td>NaN</td>\n",
       "      <td>NaN</td>\n",
       "      <td>NaN</td>\n",
       "      <td>NaN</td>\n",
       "    </tr>\n",
       "    <tr>\n",
       "      <th>5</th>\n",
       "      <td>1075269</td>\n",
       "      <td>1311441</td>\n",
       "      <td>5000</td>\n",
       "      <td>5000</td>\n",
       "      <td>5000.0</td>\n",
       "      <td>36 months</td>\n",
       "      <td>7.90%</td>\n",
       "      <td>156.46</td>\n",
       "      <td>A</td>\n",
       "      <td>A4</td>\n",
       "      <td>...</td>\n",
       "      <td>NaN</td>\n",
       "      <td>NaN</td>\n",
       "      <td>NaN</td>\n",
       "      <td>NaN</td>\n",
       "      <td>0.0</td>\n",
       "      <td>0.0</td>\n",
       "      <td>NaN</td>\n",
       "      <td>NaN</td>\n",
       "      <td>NaN</td>\n",
       "      <td>NaN</td>\n",
       "    </tr>\n",
       "    <tr>\n",
       "      <th>6</th>\n",
       "      <td>1069639</td>\n",
       "      <td>1304742</td>\n",
       "      <td>7000</td>\n",
       "      <td>7000</td>\n",
       "      <td>7000.0</td>\n",
       "      <td>60 months</td>\n",
       "      <td>15.96%</td>\n",
       "      <td>170.08</td>\n",
       "      <td>C</td>\n",
       "      <td>C5</td>\n",
       "      <td>...</td>\n",
       "      <td>NaN</td>\n",
       "      <td>NaN</td>\n",
       "      <td>NaN</td>\n",
       "      <td>NaN</td>\n",
       "      <td>0.0</td>\n",
       "      <td>0.0</td>\n",
       "      <td>NaN</td>\n",
       "      <td>NaN</td>\n",
       "      <td>NaN</td>\n",
       "      <td>NaN</td>\n",
       "    </tr>\n",
       "    <tr>\n",
       "      <th>7</th>\n",
       "      <td>1072053</td>\n",
       "      <td>1288686</td>\n",
       "      <td>3000</td>\n",
       "      <td>3000</td>\n",
       "      <td>3000.0</td>\n",
       "      <td>36 months</td>\n",
       "      <td>18.64%</td>\n",
       "      <td>109.43</td>\n",
       "      <td>E</td>\n",
       "      <td>E1</td>\n",
       "      <td>...</td>\n",
       "      <td>NaN</td>\n",
       "      <td>NaN</td>\n",
       "      <td>NaN</td>\n",
       "      <td>NaN</td>\n",
       "      <td>0.0</td>\n",
       "      <td>0.0</td>\n",
       "      <td>NaN</td>\n",
       "      <td>NaN</td>\n",
       "      <td>NaN</td>\n",
       "      <td>NaN</td>\n",
       "    </tr>\n",
       "    <tr>\n",
       "      <th>8</th>\n",
       "      <td>1071795</td>\n",
       "      <td>1306957</td>\n",
       "      <td>5600</td>\n",
       "      <td>5600</td>\n",
       "      <td>5600.0</td>\n",
       "      <td>60 months</td>\n",
       "      <td>21.28%</td>\n",
       "      <td>152.39</td>\n",
       "      <td>F</td>\n",
       "      <td>F2</td>\n",
       "      <td>...</td>\n",
       "      <td>NaN</td>\n",
       "      <td>NaN</td>\n",
       "      <td>NaN</td>\n",
       "      <td>NaN</td>\n",
       "      <td>0.0</td>\n",
       "      <td>0.0</td>\n",
       "      <td>NaN</td>\n",
       "      <td>NaN</td>\n",
       "      <td>NaN</td>\n",
       "      <td>NaN</td>\n",
       "    </tr>\n",
       "    <tr>\n",
       "      <th>9</th>\n",
       "      <td>1071570</td>\n",
       "      <td>1306721</td>\n",
       "      <td>5375</td>\n",
       "      <td>5375</td>\n",
       "      <td>5350.0</td>\n",
       "      <td>60 months</td>\n",
       "      <td>12.69%</td>\n",
       "      <td>121.45</td>\n",
       "      <td>B</td>\n",
       "      <td>B5</td>\n",
       "      <td>...</td>\n",
       "      <td>NaN</td>\n",
       "      <td>NaN</td>\n",
       "      <td>NaN</td>\n",
       "      <td>NaN</td>\n",
       "      <td>0.0</td>\n",
       "      <td>0.0</td>\n",
       "      <td>NaN</td>\n",
       "      <td>NaN</td>\n",
       "      <td>NaN</td>\n",
       "      <td>NaN</td>\n",
       "    </tr>\n",
       "  </tbody>\n",
       "</table>\n",
       "<p>10 rows × 111 columns</p>\n",
       "</div>"
      ],
      "text/plain": [
       "        id  member_id  loan_amnt  funded_amnt  funded_amnt_inv        term  \\\n",
       "0  1077501    1296599       5000         5000           4975.0   36 months   \n",
       "1  1077430    1314167       2500         2500           2500.0   60 months   \n",
       "2  1077175    1313524       2400         2400           2400.0   36 months   \n",
       "3  1076863    1277178      10000        10000          10000.0   36 months   \n",
       "4  1075358    1311748       3000         3000           3000.0   60 months   \n",
       "5  1075269    1311441       5000         5000           5000.0   36 months   \n",
       "6  1069639    1304742       7000         7000           7000.0   60 months   \n",
       "7  1072053    1288686       3000         3000           3000.0   36 months   \n",
       "8  1071795    1306957       5600         5600           5600.0   60 months   \n",
       "9  1071570    1306721       5375         5375           5350.0   60 months   \n",
       "\n",
       "  int_rate  installment grade sub_grade            ...              \\\n",
       "0   10.65%       162.87     B        B2            ...               \n",
       "1   15.27%        59.83     C        C4            ...               \n",
       "2   15.96%        84.33     C        C5            ...               \n",
       "3   13.49%       339.31     C        C1            ...               \n",
       "4   12.69%        67.79     B        B5            ...               \n",
       "5    7.90%       156.46     A        A4            ...               \n",
       "6   15.96%       170.08     C        C5            ...               \n",
       "7   18.64%       109.43     E        E1            ...               \n",
       "8   21.28%       152.39     F        F2            ...               \n",
       "9   12.69%       121.45     B        B5            ...               \n",
       "\n",
       "  num_tl_90g_dpd_24m num_tl_op_past_12m pct_tl_nvr_dlq  percent_bc_gt_75  \\\n",
       "0                NaN                NaN            NaN               NaN   \n",
       "1                NaN                NaN            NaN               NaN   \n",
       "2                NaN                NaN            NaN               NaN   \n",
       "3                NaN                NaN            NaN               NaN   \n",
       "4                NaN                NaN            NaN               NaN   \n",
       "5                NaN                NaN            NaN               NaN   \n",
       "6                NaN                NaN            NaN               NaN   \n",
       "7                NaN                NaN            NaN               NaN   \n",
       "8                NaN                NaN            NaN               NaN   \n",
       "9                NaN                NaN            NaN               NaN   \n",
       "\n",
       "  pub_rec_bankruptcies tax_liens tot_hi_cred_lim total_bal_ex_mort  \\\n",
       "0                  0.0       0.0             NaN               NaN   \n",
       "1                  0.0       0.0             NaN               NaN   \n",
       "2                  0.0       0.0             NaN               NaN   \n",
       "3                  0.0       0.0             NaN               NaN   \n",
       "4                  0.0       0.0             NaN               NaN   \n",
       "5                  0.0       0.0             NaN               NaN   \n",
       "6                  0.0       0.0             NaN               NaN   \n",
       "7                  0.0       0.0             NaN               NaN   \n",
       "8                  0.0       0.0             NaN               NaN   \n",
       "9                  0.0       0.0             NaN               NaN   \n",
       "\n",
       "  total_bc_limit total_il_high_credit_limit  \n",
       "0            NaN                        NaN  \n",
       "1            NaN                        NaN  \n",
       "2            NaN                        NaN  \n",
       "3            NaN                        NaN  \n",
       "4            NaN                        NaN  \n",
       "5            NaN                        NaN  \n",
       "6            NaN                        NaN  \n",
       "7            NaN                        NaN  \n",
       "8            NaN                        NaN  \n",
       "9            NaN                        NaN  \n",
       "\n",
       "[10 rows x 111 columns]"
      ]
     },
     "execution_count": 85,
     "metadata": {},
     "output_type": "execute_result"
    }
   ],
   "source": [
    "#Inspecting the data\n",
    "loanDetails.head(10)"
   ]
  },
  {
   "cell_type": "markdown",
   "metadata": {},
   "source": [
    "## Data Understanding\n",
    "### Some key observations\n",
    "\n",
    "- loan_amnt >= funded_amnt >= funded_amnt_inv\n",
    "- funded_amnt = out_prncp(is non-zero for current loans only) + total_rec_prncp\n",
    "- total_pymnt = total_rec_prncp + total_rec_int + total_rec_late_fee\n",
    "- grades are ordered (A, B, C, D, E, F, G)\n",
    "- sub_grades are ordered (1-5)\n",
    "- on average higher interest rates are associated with higher grades/subgrades"
   ]
  },
  {
   "cell_type": "markdown",
   "metadata": {},
   "source": [
    "## Data Cleaning\n",
    "### Prepare dataset\n",
    "\n",
    " We need only FULLY PAID and CHARGED OFF in our analysis because we dont know if they will be FULLY PAID/ CURRENT in the future\n",
    " Remove all loan_status those are still on going i.e. loan_status = \"CURRENT\""
   ]
  },
  {
   "cell_type": "code",
   "execution_count": 86,
   "metadata": {},
   "outputs": [
    {
     "data": {
      "text/plain": [
       "array(['Fully Paid', 'Charged Off', 'Current'], dtype=object)"
      ]
     },
     "execution_count": 86,
     "metadata": {},
     "output_type": "execute_result"
    }
   ],
   "source": [
    "# Check the different loan statuses\n",
    "loanDetails['loan_status'].unique()"
   ]
  },
  {
   "cell_type": "code",
   "execution_count": 87,
   "metadata": {},
   "outputs": [
    {
     "name": "stdout",
     "output_type": "stream",
     "text": [
      "<class 'pandas.core.frame.DataFrame'>\n",
      "Int64Index: 38577 entries, 0 to 39716\n",
      "Columns: 111 entries, id to total_il_high_credit_limit\n",
      "dtypes: float64(74), int64(13), object(24)\n",
      "memory usage: 33.0+ MB\n"
     ]
    }
   ],
   "source": [
    "loanDetails=loanDetails[loanDetails['loan_status'] != \"Current\"]\n",
    "loanDetails.info()"
   ]
  },
  {
   "cell_type": "markdown",
   "metadata": {},
   "source": [
    "### Remove null columns"
   ]
  },
  {
   "cell_type": "code",
   "execution_count": 88,
   "metadata": {},
   "outputs": [
    {
     "name": "stdout",
     "output_type": "stream",
     "text": [
      "id                                  0.000000\n",
      "member_id                           0.000000\n",
      "loan_amnt                           0.000000\n",
      "funded_amnt                         0.000000\n",
      "funded_amnt_inv                     0.000000\n",
      "term                                0.000000\n",
      "int_rate                            0.000000\n",
      "installment                         0.000000\n",
      "grade                               0.000000\n",
      "sub_grade                           0.000000\n",
      "emp_title                           6.185033\n",
      "emp_length                          2.677761\n",
      "home_ownership                      0.000000\n",
      "annual_inc                          0.000000\n",
      "verification_status                 0.000000\n",
      "issue_d                             0.000000\n",
      "loan_status                         0.000000\n",
      "pymnt_plan                          0.000000\n",
      "url                                 0.000000\n",
      "desc                               32.472717\n",
      "purpose                             0.000000\n",
      "title                               0.028514\n",
      "zip_code                            0.000000\n",
      "addr_state                          0.000000\n",
      "dti                                 0.000000\n",
      "delinq_2yrs                         0.000000\n",
      "earliest_cr_line                    0.000000\n",
      "inq_last_6mths                      0.000000\n",
      "mths_since_last_delinq             64.559193\n",
      "mths_since_last_record             92.897322\n",
      "                                     ...    \n",
      "mo_sin_old_rev_tl_op              100.000000\n",
      "mo_sin_rcnt_rev_tl_op             100.000000\n",
      "mo_sin_rcnt_tl                    100.000000\n",
      "mort_acc                          100.000000\n",
      "mths_since_recent_bc              100.000000\n",
      "mths_since_recent_bc_dlq          100.000000\n",
      "mths_since_recent_inq             100.000000\n",
      "mths_since_recent_revol_delinq    100.000000\n",
      "num_accts_ever_120_pd             100.000000\n",
      "num_actv_bc_tl                    100.000000\n",
      "num_actv_rev_tl                   100.000000\n",
      "num_bc_sats                       100.000000\n",
      "num_bc_tl                         100.000000\n",
      "num_il_tl                         100.000000\n",
      "num_op_rev_tl                     100.000000\n",
      "num_rev_accts                     100.000000\n",
      "num_rev_tl_bal_gt_0               100.000000\n",
      "num_sats                          100.000000\n",
      "num_tl_120dpd_2m                  100.000000\n",
      "num_tl_30dpd                      100.000000\n",
      "num_tl_90g_dpd_24m                100.000000\n",
      "num_tl_op_past_12m                100.000000\n",
      "pct_tl_nvr_dlq                    100.000000\n",
      "percent_bc_gt_75                  100.000000\n",
      "pub_rec_bankruptcies                1.806776\n",
      "tax_liens                           0.101097\n",
      "tot_hi_cred_lim                   100.000000\n",
      "total_bal_ex_mort                 100.000000\n",
      "total_bc_limit                    100.000000\n",
      "total_il_high_credit_limit        100.000000\n",
      "Length: 111, dtype: float64\n"
     ]
    }
   ],
   "source": [
    "#Analysing the null values in the columns\n",
    "print(100*(loanDetails.isnull().sum(axis = 0)/len(loanDetails.index)))"
   ]
  },
  {
   "cell_type": "code",
   "execution_count": 89,
   "metadata": {},
   "outputs": [
    {
     "name": "stdout",
     "output_type": "stream",
     "text": [
      "<class 'pandas.core.frame.DataFrame'>\n",
      "Int64Index: 38577 entries, 0 to 39716\n",
      "Data columns (total 56 columns):\n",
      "id                            38577 non-null int64\n",
      "member_id                     38577 non-null int64\n",
      "loan_amnt                     38577 non-null int64\n",
      "funded_amnt                   38577 non-null int64\n",
      "funded_amnt_inv               38577 non-null float64\n",
      "term                          38577 non-null object\n",
      "int_rate                      38577 non-null object\n",
      "installment                   38577 non-null float64\n",
      "grade                         38577 non-null object\n",
      "sub_grade                     38577 non-null object\n",
      "emp_title                     36191 non-null object\n",
      "emp_length                    37544 non-null object\n",
      "home_ownership                38577 non-null object\n",
      "annual_inc                    38577 non-null float64\n",
      "verification_status           38577 non-null object\n",
      "issue_d                       38577 non-null object\n",
      "loan_status                   38577 non-null object\n",
      "pymnt_plan                    38577 non-null object\n",
      "url                           38577 non-null object\n",
      "desc                          26050 non-null object\n",
      "purpose                       38577 non-null object\n",
      "title                         38566 non-null object\n",
      "zip_code                      38577 non-null object\n",
      "addr_state                    38577 non-null object\n",
      "dti                           38577 non-null float64\n",
      "delinq_2yrs                   38577 non-null int64\n",
      "earliest_cr_line              38577 non-null object\n",
      "inq_last_6mths                38577 non-null int64\n",
      "mths_since_last_delinq        13672 non-null float64\n",
      "mths_since_last_record        2740 non-null float64\n",
      "open_acc                      38577 non-null int64\n",
      "pub_rec                       38577 non-null int64\n",
      "revol_bal                     38577 non-null int64\n",
      "revol_util                    38527 non-null object\n",
      "total_acc                     38577 non-null int64\n",
      "initial_list_status           38577 non-null object\n",
      "out_prncp                     38577 non-null float64\n",
      "out_prncp_inv                 38577 non-null float64\n",
      "total_pymnt                   38577 non-null float64\n",
      "total_pymnt_inv               38577 non-null float64\n",
      "total_rec_prncp               38577 non-null float64\n",
      "total_rec_int                 38577 non-null float64\n",
      "total_rec_late_fee            38577 non-null float64\n",
      "recoveries                    38577 non-null float64\n",
      "collection_recovery_fee       38577 non-null float64\n",
      "last_pymnt_d                  38506 non-null object\n",
      "last_pymnt_amnt               38577 non-null float64\n",
      "last_credit_pull_d            38575 non-null object\n",
      "collections_12_mths_ex_med    38521 non-null float64\n",
      "policy_code                   38577 non-null int64\n",
      "application_type              38577 non-null object\n",
      "acc_now_delinq                38577 non-null int64\n",
      "chargeoff_within_12_mths      38521 non-null float64\n",
      "delinq_amnt                   38577 non-null int64\n",
      "pub_rec_bankruptcies          37880 non-null float64\n",
      "tax_liens                     38538 non-null float64\n",
      "dtypes: float64(20), int64(13), object(23)\n",
      "memory usage: 16.8+ MB\n",
      "None\n"
     ]
    }
   ],
   "source": [
    "# dropping all null columns as they don't help in the analysis\n",
    "loanDetails.dropna(axis = 1, how ='all', inplace = True)\n",
    "\n",
    "# inspect the dataframe\n",
    "print(loanDetails.info())"
   ]
  },
  {
   "cell_type": "markdown",
   "metadata": {},
   "source": [
    "### Remove constant Columns"
   ]
  },
  {
   "cell_type": "code",
   "execution_count": 90,
   "metadata": {},
   "outputs": [
    {
     "name": "stdout",
     "output_type": "stream",
     "text": [
      "id                            38577\n",
      "member_id                     38577\n",
      "loan_amnt                       870\n",
      "funded_amnt                    1019\n",
      "funded_amnt_inv                8050\n",
      "term                              2\n",
      "int_rate                        370\n",
      "installment                   15022\n",
      "grade                             7\n",
      "sub_grade                        35\n",
      "emp_title                     28027\n",
      "emp_length                       11\n",
      "home_ownership                    5\n",
      "annual_inc                     5215\n",
      "verification_status               3\n",
      "issue_d                          55\n",
      "loan_status                       2\n",
      "pymnt_plan                        1\n",
      "url                           38577\n",
      "desc                          25803\n",
      "purpose                          14\n",
      "title                         19297\n",
      "zip_code                        822\n",
      "addr_state                       50\n",
      "dti                            2853\n",
      "delinq_2yrs                      11\n",
      "earliest_cr_line                524\n",
      "inq_last_6mths                    9\n",
      "mths_since_last_delinq           95\n",
      "mths_since_last_record          111\n",
      "open_acc                         40\n",
      "pub_rec                           5\n",
      "revol_bal                     21275\n",
      "revol_util                     1088\n",
      "total_acc                        82\n",
      "initial_list_status               1\n",
      "out_prncp                         1\n",
      "out_prncp_inv                     1\n",
      "total_pymnt                   36714\n",
      "total_pymnt_inv               36387\n",
      "total_rec_prncp                6841\n",
      "total_rec_int                 34025\n",
      "total_rec_late_fee             1320\n",
      "recoveries                     4040\n",
      "collection_recovery_fee        2616\n",
      "last_pymnt_d                    101\n",
      "last_pymnt_amnt               34418\n",
      "last_credit_pull_d              106\n",
      "collections_12_mths_ex_med        1\n",
      "policy_code                       1\n",
      "application_type                  1\n",
      "acc_now_delinq                    1\n",
      "chargeoff_within_12_mths          1\n",
      "delinq_amnt                       1\n",
      "pub_rec_bankruptcies              3\n",
      "tax_liens                         1\n",
      "dtype: int64\n"
     ]
    }
   ],
   "source": [
    "# check for column-wise unique values\n",
    "print(loanDetails.nunique())"
   ]
  },
  {
   "cell_type": "code",
   "execution_count": 91,
   "metadata": {},
   "outputs": [
    {
     "name": "stdout",
     "output_type": "stream",
     "text": [
      "<class 'pandas.core.frame.DataFrame'>\n",
      "Int64Index: 38577 entries, 0 to 39716\n",
      "Data columns (total 45 columns):\n",
      "id                         38577 non-null int64\n",
      "member_id                  38577 non-null int64\n",
      "loan_amnt                  38577 non-null int64\n",
      "funded_amnt                38577 non-null int64\n",
      "funded_amnt_inv            38577 non-null float64\n",
      "term                       38577 non-null object\n",
      "int_rate                   38577 non-null object\n",
      "installment                38577 non-null float64\n",
      "grade                      38577 non-null object\n",
      "sub_grade                  38577 non-null object\n",
      "emp_title                  36191 non-null object\n",
      "emp_length                 37544 non-null object\n",
      "home_ownership             38577 non-null object\n",
      "annual_inc                 38577 non-null float64\n",
      "verification_status        38577 non-null object\n",
      "issue_d                    38577 non-null object\n",
      "loan_status                38577 non-null object\n",
      "url                        38577 non-null object\n",
      "desc                       26050 non-null object\n",
      "purpose                    38577 non-null object\n",
      "title                      38566 non-null object\n",
      "zip_code                   38577 non-null object\n",
      "addr_state                 38577 non-null object\n",
      "dti                        38577 non-null float64\n",
      "delinq_2yrs                38577 non-null int64\n",
      "earliest_cr_line           38577 non-null object\n",
      "inq_last_6mths             38577 non-null int64\n",
      "mths_since_last_delinq     13672 non-null float64\n",
      "mths_since_last_record     2740 non-null float64\n",
      "open_acc                   38577 non-null int64\n",
      "pub_rec                    38577 non-null int64\n",
      "revol_bal                  38577 non-null int64\n",
      "revol_util                 38527 non-null object\n",
      "total_acc                  38577 non-null int64\n",
      "total_pymnt                38577 non-null float64\n",
      "total_pymnt_inv            38577 non-null float64\n",
      "total_rec_prncp            38577 non-null float64\n",
      "total_rec_int              38577 non-null float64\n",
      "total_rec_late_fee         38577 non-null float64\n",
      "recoveries                 38577 non-null float64\n",
      "collection_recovery_fee    38577 non-null float64\n",
      "last_pymnt_d               38506 non-null object\n",
      "last_pymnt_amnt            38577 non-null float64\n",
      "last_credit_pull_d         38575 non-null object\n",
      "pub_rec_bankruptcies       37880 non-null float64\n",
      "dtypes: float64(15), int64(10), object(20)\n",
      "memory usage: 13.5+ MB\n",
      "None\n"
     ]
    }
   ],
   "source": [
    "# drop the all columns with same non-null value for all entries.\n",
    "loanDetails.drop(['pymnt_plan', 'initial_list_status', 'out_prncp', 'out_prncp_inv', 'collections_12_mths_ex_med','policy_code', 'application_type', 'acc_now_delinq', 'chargeoff_within_12_mths', 'delinq_amnt', 'tax_liens'], axis=1,inplace=True)\n",
    "\n",
    "# inspect the dataframe\n",
    "print(loanDetails.info())"
   ]
  },
  {
   "cell_type": "markdown",
   "metadata": {},
   "source": [
    "### Remove redundant Columns"
   ]
  },
  {
   "cell_type": "code",
   "execution_count": 92,
   "metadata": {},
   "outputs": [
    {
     "data": {
      "text/plain": [
       "id                          0.00\n",
       "member_id                   0.00\n",
       "loan_amnt                   0.00\n",
       "funded_amnt                 0.00\n",
       "funded_amnt_inv             0.00\n",
       "term                        0.00\n",
       "int_rate                    0.00\n",
       "installment                 0.00\n",
       "grade                       0.00\n",
       "sub_grade                   0.00\n",
       "emp_title                   6.19\n",
       "emp_length                  2.68\n",
       "home_ownership              0.00\n",
       "annual_inc                  0.00\n",
       "verification_status         0.00\n",
       "issue_d                     0.00\n",
       "loan_status                 0.00\n",
       "url                         0.00\n",
       "desc                       32.47\n",
       "purpose                     0.00\n",
       "title                       0.03\n",
       "zip_code                    0.00\n",
       "addr_state                  0.00\n",
       "dti                         0.00\n",
       "delinq_2yrs                 0.00\n",
       "earliest_cr_line            0.00\n",
       "inq_last_6mths              0.00\n",
       "mths_since_last_delinq     64.56\n",
       "mths_since_last_record     92.90\n",
       "open_acc                    0.00\n",
       "pub_rec                     0.00\n",
       "revol_bal                   0.00\n",
       "revol_util                  0.13\n",
       "total_acc                   0.00\n",
       "total_pymnt                 0.00\n",
       "total_pymnt_inv             0.00\n",
       "total_rec_prncp             0.00\n",
       "total_rec_int               0.00\n",
       "total_rec_late_fee          0.00\n",
       "recoveries                  0.00\n",
       "collection_recovery_fee     0.00\n",
       "last_pymnt_d                0.18\n",
       "last_pymnt_amnt             0.00\n",
       "last_credit_pull_d          0.01\n",
       "pub_rec_bankruptcies        1.81\n",
       "dtype: float64"
      ]
     },
     "execution_count": 92,
     "metadata": {},
     "output_type": "execute_result"
    }
   ],
   "source": [
    "# check for column-wise null percentage\n",
    "round(loanDetails.isnull().sum()*100/len(loanDetails.index),2)"
   ]
  },
  {
   "cell_type": "code",
   "execution_count": 93,
   "metadata": {},
   "outputs": [
    {
     "name": "stdout",
     "output_type": "stream",
     "text": [
      "<class 'pandas.core.frame.DataFrame'>\n",
      "Int64Index: 38577 entries, 0 to 39716\n",
      "Data columns (total 43 columns):\n",
      "id                         38577 non-null int64\n",
      "member_id                  38577 non-null int64\n",
      "loan_amnt                  38577 non-null int64\n",
      "funded_amnt                38577 non-null int64\n",
      "funded_amnt_inv            38577 non-null float64\n",
      "term                       38577 non-null object\n",
      "int_rate                   38577 non-null object\n",
      "installment                38577 non-null float64\n",
      "grade                      38577 non-null object\n",
      "sub_grade                  38577 non-null object\n",
      "emp_title                  36191 non-null object\n",
      "emp_length                 37544 non-null object\n",
      "home_ownership             38577 non-null object\n",
      "annual_inc                 38577 non-null float64\n",
      "verification_status        38577 non-null object\n",
      "issue_d                    38577 non-null object\n",
      "loan_status                38577 non-null object\n",
      "url                        38577 non-null object\n",
      "desc                       26050 non-null object\n",
      "purpose                    38577 non-null object\n",
      "title                      38566 non-null object\n",
      "zip_code                   38577 non-null object\n",
      "addr_state                 38577 non-null object\n",
      "dti                        38577 non-null float64\n",
      "delinq_2yrs                38577 non-null int64\n",
      "earliest_cr_line           38577 non-null object\n",
      "inq_last_6mths             38577 non-null int64\n",
      "open_acc                   38577 non-null int64\n",
      "pub_rec                    38577 non-null int64\n",
      "revol_bal                  38577 non-null int64\n",
      "revol_util                 38527 non-null object\n",
      "total_acc                  38577 non-null int64\n",
      "total_pymnt                38577 non-null float64\n",
      "total_pymnt_inv            38577 non-null float64\n",
      "total_rec_prncp            38577 non-null float64\n",
      "total_rec_int              38577 non-null float64\n",
      "total_rec_late_fee         38577 non-null float64\n",
      "recoveries                 38577 non-null float64\n",
      "collection_recovery_fee    38577 non-null float64\n",
      "last_pymnt_d               38506 non-null object\n",
      "last_pymnt_amnt            38577 non-null float64\n",
      "last_credit_pull_d         38575 non-null object\n",
      "pub_rec_bankruptcies       37880 non-null float64\n",
      "dtypes: float64(13), int64(10), object(20)\n",
      "memory usage: 13.0+ MB\n",
      "None\n"
     ]
    }
   ],
   "source": [
    "#Dropping columns with greater than 50% null vlaues as they cannot be reasonably imputed\n",
    "loanDetails = loanDetails.loc[:, loanDetails.isnull().mean() < .5]\n",
    "\n",
    "# inspect the dataframe\n",
    "print(loanDetails.info())"
   ]
  },
  {
   "cell_type": "markdown",
   "metadata": {},
   "source": [
    "### Filter columns"
   ]
  },
  {
   "cell_type": "code",
   "execution_count": 94,
   "metadata": {},
   "outputs": [],
   "source": [
    "# Inspecting the columns - id, member id, url have a one-one relation and uniquely identify each loan. Since analysis is not\n",
    "# done at individual level drop these columns\n",
    "loanDetails.drop(['id', 'member_id', 'url'], axis=1,inplace=True)"
   ]
  },
  {
   "cell_type": "code",
   "execution_count": 95,
   "metadata": {},
   "outputs": [],
   "source": [
    "# columns - desc, title are for human understanding/information and don't bear significance for analysis. Remove these\n",
    "loanDetails.drop(['desc', 'title'], axis=1,inplace=True)"
   ]
  },
  {
   "cell_type": "code",
   "execution_count": 96,
   "metadata": {},
   "outputs": [],
   "source": [
    "# columns - addr_state, zip_code have a hierarchical relation.\n",
    "# zip_code' contains very large number of categories, which could mislead the analysis\n",
    "# So discard zip_code\n",
    "loanDetails.drop(['zip_code'], axis=1,inplace=True)"
   ]
  },
  {
   "cell_type": "markdown",
   "metadata": {},
   "source": [
    "### Drop unecessary rows\n",
    "\n",
    "Some of the rows might have greater than five NaN values. Such rows aren't of much use for the analysis and hence, should be removed."
   ]
  },
  {
   "cell_type": "code",
   "execution_count": 97,
   "metadata": {},
   "outputs": [
    {
     "data": {
      "text/plain": [
       "38577"
      ]
     },
     "execution_count": 97,
     "metadata": {},
     "output_type": "execute_result"
    }
   ],
   "source": [
    "# check rows with atmost 5 null values\n",
    "len(loanDetails[loanDetails.isnull().sum(axis=1)<=5])\n",
    "\n",
    "# No rows with more than 5 null values"
   ]
  },
  {
   "cell_type": "markdown",
   "metadata": {},
   "source": [
    "### Check the number of retained rows\n",
    "\n",
    "Check the number and percentage of the rows retained after completing all the tasks above."
   ]
  },
  {
   "cell_type": "code",
   "execution_count": 98,
   "metadata": {},
   "outputs": [
    {
     "data": {
      "text/plain": [
       "(38577, 37)"
      ]
     },
     "execution_count": 98,
     "metadata": {},
     "output_type": "execute_result"
    }
   ],
   "source": [
    "# Write your code for checking number of retained rows here\n",
    "loanDetails.shape"
   ]
  },
  {
   "cell_type": "code",
   "execution_count": 99,
   "metadata": {},
   "outputs": [
    {
     "data": {
      "text/plain": [
       "97"
      ]
     },
     "execution_count": 99,
     "metadata": {},
     "output_type": "execute_result"
    }
   ],
   "source": [
    "# code for checking percentage of retained rows\n",
    "round(100*len(loanDetails.index)/39717)"
   ]
  },
  {
   "cell_type": "markdown",
   "metadata": {},
   "source": [
    "### Convert columns to correct type"
   ]
  },
  {
   "cell_type": "markdown",
   "metadata": {},
   "source": [
    "#### convert to numeric"
   ]
  },
  {
   "cell_type": "code",
   "execution_count": 100,
   "metadata": {},
   "outputs": [
    {
     "name": "stdout",
     "output_type": "stream",
     "text": [
      "<class 'pandas.core.frame.DataFrame'>\n",
      "Int64Index: 38577 entries, 0 to 39716\n",
      "Data columns (total 37 columns):\n",
      "loan_amnt                  38577 non-null int64\n",
      "funded_amnt                38577 non-null int64\n",
      "funded_amnt_inv            38577 non-null float64\n",
      "term                       38577 non-null object\n",
      "int_rate                   38577 non-null float64\n",
      "installment                38577 non-null float64\n",
      "grade                      38577 non-null object\n",
      "sub_grade                  38577 non-null object\n",
      "emp_title                  36191 non-null object\n",
      "emp_length                 37544 non-null object\n",
      "home_ownership             38577 non-null object\n",
      "annual_inc                 38577 non-null float64\n",
      "verification_status        38577 non-null object\n",
      "issue_d                    38577 non-null object\n",
      "loan_status                38577 non-null object\n",
      "purpose                    38577 non-null object\n",
      "addr_state                 38577 non-null object\n",
      "dti                        38577 non-null float64\n",
      "delinq_2yrs                38577 non-null int64\n",
      "earliest_cr_line           38577 non-null object\n",
      "inq_last_6mths             38577 non-null int64\n",
      "open_acc                   38577 non-null int64\n",
      "pub_rec                    38577 non-null int64\n",
      "revol_bal                  38577 non-null int64\n",
      "revol_util                 38527 non-null float64\n",
      "total_acc                  38577 non-null int64\n",
      "total_pymnt                38577 non-null float64\n",
      "total_pymnt_inv            38577 non-null float64\n",
      "total_rec_prncp            38577 non-null float64\n",
      "total_rec_int              38577 non-null float64\n",
      "total_rec_late_fee         38577 non-null float64\n",
      "recoveries                 38577 non-null float64\n",
      "collection_recovery_fee    38577 non-null float64\n",
      "last_pymnt_d               38506 non-null object\n",
      "last_pymnt_amnt            38577 non-null float64\n",
      "last_credit_pull_d         38575 non-null object\n",
      "pub_rec_bankruptcies       37880 non-null float64\n",
      "dtypes: float64(15), int64(8), object(14)\n",
      "memory usage: 11.2+ MB\n",
      "None\n"
     ]
    }
   ],
   "source": [
    "# Remove extra data from columns 'int_rate', 'revol_util'\n",
    "loanDetails['int_rate'] = loanDetails['int_rate'].str.strip(\"%\")\n",
    "loanDetails['revol_util'] = loanDetails['revol_util'].str.strip(\"%\")\n",
    "\n",
    "# Convert columns 'int_rate', 'revol_util' to float\n",
    "loanDetails['int_rate'] = pd.to_numeric(loanDetails['int_rate'],errors='coerce')\n",
    "loanDetails['revol_util'] = pd.to_numeric(loanDetails['revol_util'],errors='coerce')\n",
    "print(loanDetails.info())"
   ]
  },
  {
   "cell_type": "markdown",
   "metadata": {},
   "source": [
    "#### convert to date"
   ]
  },
  {
   "cell_type": "code",
   "execution_count": 101,
   "metadata": {},
   "outputs": [
    {
     "name": "stdout",
     "output_type": "stream",
     "text": [
      "<class 'pandas.core.frame.DataFrame'>\n",
      "Int64Index: 38577 entries, 0 to 39716\n",
      "Data columns (total 37 columns):\n",
      "loan_amnt                  38577 non-null int64\n",
      "funded_amnt                38577 non-null int64\n",
      "funded_amnt_inv            38577 non-null float64\n",
      "term                       38577 non-null object\n",
      "int_rate                   38577 non-null float64\n",
      "installment                38577 non-null float64\n",
      "grade                      38577 non-null object\n",
      "sub_grade                  38577 non-null object\n",
      "emp_title                  36191 non-null object\n",
      "emp_length                 37544 non-null object\n",
      "home_ownership             38577 non-null object\n",
      "annual_inc                 38577 non-null float64\n",
      "verification_status        38577 non-null object\n",
      "issue_d                    38577 non-null datetime64[ns]\n",
      "loan_status                38577 non-null object\n",
      "purpose                    38577 non-null object\n",
      "addr_state                 38577 non-null object\n",
      "dti                        38577 non-null float64\n",
      "delinq_2yrs                38577 non-null int64\n",
      "earliest_cr_line           38577 non-null datetime64[ns]\n",
      "inq_last_6mths             38577 non-null int64\n",
      "open_acc                   38577 non-null int64\n",
      "pub_rec                    38577 non-null int64\n",
      "revol_bal                  38577 non-null int64\n",
      "revol_util                 38527 non-null float64\n",
      "total_acc                  38577 non-null int64\n",
      "total_pymnt                38577 non-null float64\n",
      "total_pymnt_inv            38577 non-null float64\n",
      "total_rec_prncp            38577 non-null float64\n",
      "total_rec_int              38577 non-null float64\n",
      "total_rec_late_fee         38577 non-null float64\n",
      "recoveries                 38577 non-null float64\n",
      "collection_recovery_fee    38577 non-null float64\n",
      "last_pymnt_d               38506 non-null datetime64[ns]\n",
      "last_pymnt_amnt            38577 non-null float64\n",
      "last_credit_pull_d         38575 non-null datetime64[ns]\n",
      "pub_rec_bankruptcies       37880 non-null float64\n",
      "dtypes: datetime64[ns](4), float64(15), int64(8), object(10)\n",
      "memory usage: 11.2+ MB\n",
      "None\n"
     ]
    }
   ],
   "source": [
    "#convert date columns to appropriate type - issue_d, earliest_cr_line, last_pymnt_d, last_credit_pull_d\n",
    "\n",
    "loanDetails['issue_d'] = pd.to_datetime(loanDetails['issue_d'], format='%b-%y')\n",
    "loanDetails['issue_d']\n",
    "\n",
    "loanDetails['earliest_cr_line'] = pd.to_datetime(loanDetails['earliest_cr_line'], format='%b-%y')\n",
    "loanDetails['earliest_cr_line']\n",
    "\n",
    "loanDetails['last_pymnt_d'] = pd.to_datetime(loanDetails['last_pymnt_d'], format='%b-%y')\n",
    "loanDetails['last_pymnt_d']\n",
    "\n",
    "loanDetails['last_credit_pull_d'] = pd.to_datetime(loanDetails['last_credit_pull_d'], format='%b-%y')\n",
    "loanDetails['last_credit_pull_d']\n",
    "print(loanDetails.info())"
   ]
  },
  {
   "cell_type": "markdown",
   "metadata": {},
   "source": [
    "### Derived Columns"
   ]
  },
  {
   "cell_type": "code",
   "execution_count": 102,
   "metadata": {},
   "outputs": [],
   "source": [
    "#Find the outstanding principal (principal amount unrecovered) for the defaulted loans\n",
    "#Find the loss = funded_amnt - total_rec_prncp\n",
    "loanDetails['prncp_loss']=loanDetails['funded_amnt']-loanDetails['total_rec_prncp']"
   ]
  },
  {
   "cell_type": "markdown",
   "metadata": {},
   "source": [
    "### Standardize Values"
   ]
  },
  {
   "cell_type": "code",
   "execution_count": 103,
   "metadata": {},
   "outputs": [],
   "source": [
    "# Convert all text columns to single case"
   ]
  },
  {
   "cell_type": "markdown",
   "metadata": {},
   "source": [
    "##  Data Analysis - Univariate"
   ]
  },
  {
   "cell_type": "markdown",
   "metadata": {},
   "source": [
    "### Categorical Variables - Univariate and Segmented Analysis"
   ]
  },
  {
   "cell_type": "markdown",
   "metadata": {},
   "source": [
    "#### Analyse the target variable - loan_status"
   ]
  },
  {
   "cell_type": "code",
   "execution_count": 104,
   "metadata": {},
   "outputs": [
    {
     "name": "stdout",
     "output_type": "stream",
     "text": [
      "Fully Paid     32950\n",
      "Charged Off     5627\n",
      "Name: loan_status, dtype: int64\n"
     ]
    },
    {
     "data": {
      "text/plain": [
       "Fully Paid     0.854136\n",
       "Charged Off    0.145864\n",
       "Name: loan_status, dtype: float64"
      ]
     },
     "execution_count": 104,
     "metadata": {},
     "output_type": "execute_result"
    }
   ],
   "source": [
    "#Calculating the number of application on the basis of loan status\n",
    "print(loanDetails.loan_status.value_counts())\n",
    "loanDetails.loan_status.value_counts()/len(loanDetails)"
   ]
  },
  {
   "cell_type": "code",
   "execution_count": 105,
   "metadata": {},
   "outputs": [
    {
     "data": {
      "text/plain": [
       "<matplotlib.axes._subplots.AxesSubplot at 0x20f2ee972e8>"
      ]
     },
     "execution_count": 105,
     "metadata": {},
     "output_type": "execute_result"
    },
    {
     "data": {
      "image/png": "[encoded data removed]",
      "text/plain": [
       "<Figure size 432x288 with 1 Axes>"
      ]
     },
     "metadata": {},
     "output_type": "display_data"
    }
   ],
   "source": [
    "#Visualizing the number of application on the basis of loan status\n",
    "loanDetails.loan_status.value_counts().plot.bar()"
   ]
  },
  {
   "cell_type": "markdown",
   "metadata": {},
   "source": [
    "#### Analysing category: term"
   ]
  },
  {
   "cell_type": "code",
   "execution_count": 106,
   "metadata": {},
   "outputs": [
    {
     "name": "stdout",
     "output_type": "stream",
     "text": [
      " 36 months    29096\n",
      " 60 months     9481\n",
      "Name: term, dtype: int64\n",
      " 36 months    75.42318\n",
      " 60 months    24.57682\n",
      "Name: term, dtype: float64\n"
     ]
    },
    {
     "data": {
      "text/plain": [
       "term\n",
       " 36 months    3227\n",
       " 60 months    2400\n",
       "dtype: int64"
      ]
     },
     "execution_count": 106,
     "metadata": {},
     "output_type": "execute_result"
    }
   ],
   "source": [
    "#Calculating the number of application on the basis of 'term'.\n",
    "#This has only 2 values and involves not mathematical manipulations so consider as a category\n",
    "#Observe '36 months' count is 3 times '60 months' count;\n",
    "#fraction of 'charged_off' loans is greater for '60 months' segment\n",
    "#A GOOD DRIVING FACTOR\n",
    "\n",
    "#applications in each segment\n",
    "print(loanDetails.term.value_counts())\n",
    "#percentage of total applications in each segment\n",
    "print(loanDetails.term.value_counts()/len(loanDetails)*100)\n",
    "#charged_off loans in each segment\n",
    "loanDetails[(loanDetails.loan_status==\"Charged Off\")].groupby(['term']).size()"
   ]
  },
  {
   "cell_type": "code",
   "execution_count": 107,
   "metadata": {},
   "outputs": [
    {
     "data": {
      "image/png": "[encoded data removed]",
      "text/plain": [
       "<Figure size 720x360 with 2 Axes>"
      ]
     },
     "metadata": {},
     "output_type": "display_data"
    }
   ],
   "source": [
    "f, (ax1, ax2) = plt.subplots(nrows=1, ncols=2, figsize=(8,4), dpi=90)\n",
    "\n",
    "sns.countplot(loanDetails['term'], order=sorted(loanDetails['term'].unique()), color='#5975A4', saturation=1, ax=ax1)\n",
    "ax1.set_xlabel('term')\n",
    "ax1.set_ylabel('Count')\n",
    "ax1.set_title('term')\n",
    "plt.xticks(rotation = 90)\n",
    "\n",
    "data = loanDetails.groupby('term')['loan_status'].value_counts(normalize=True).to_frame('proportion').reset_index()        \n",
    "sns.barplot(x = 'term', y = 'proportion', hue= \"loan_status\", data = data, saturation=1, ax=ax2)\n",
    "ax2.set_ylabel('Loan fraction')\n",
    "ax2.set_title('Loan status')\n",
    "plt.xticks(rotation = 90)\n",
    "ax2.set_xlabel('term')\n",
    "    \n",
    "plt.tight_layout()"
   ]
  },
  {
   "cell_type": "markdown",
   "metadata": {},
   "source": [
    "#### Analysing category: grade, sub_grade"
   ]
  },
  {
   "cell_type": "code",
   "execution_count": 108,
   "metadata": {
    "scrolled": true
   },
   "outputs": [
    {
     "name": "stdout",
     "output_type": "stream",
     "text": [
      "B    11675\n",
      "A    10045\n",
      "C     7834\n",
      "D     5085\n",
      "E     2663\n",
      "F      976\n",
      "G      299\n",
      "Name: grade, dtype: int64\n",
      "B    30.264147\n",
      "A    26.038831\n",
      "C    20.307437\n",
      "D    13.181429\n",
      "E     6.903077\n",
      "F     2.530005\n",
      "G     0.775073\n",
      "Name: grade, dtype: float64\n"
     ]
    },
    {
     "data": {
      "text/plain": [
       "grade\n",
       "A     602\n",
       "B    1425\n",
       "C    1347\n",
       "D    1118\n",
       "E     715\n",
       "F     319\n",
       "G     101\n",
       "dtype: int64"
      ]
     },
     "execution_count": 108,
     "metadata": {},
     "output_type": "execute_result"
    }
   ],
   "source": [
    "#Calculating the number of application on the basis of 'grade'\n",
    "#Observe the largest percentage segments - 'B', 'A';\n",
    "#fraction of 'charged_off' loans increases steadily from 'A' to 'G'\n",
    "#A GOOD DRIVING FACTOR\n",
    "\n",
    "#applications in each segment\n",
    "print(loanDetails.grade.value_counts())\n",
    "#percentage of total applications in each segment\n",
    "print(loanDetails.grade.value_counts()/len(loanDetails)*100)\n",
    "#charged_off loans in each segment\n",
    "loanDetails[(loanDetails.loan_status==\"Charged Off\")].groupby(['grade']).size()"
   ]
  },
  {
   "cell_type": "code",
   "execution_count": 109,
   "metadata": {},
   "outputs": [
    {
     "name": "stdout",
     "output_type": "stream",
     "text": [
      "A4    2873\n",
      "B3    2825\n",
      "A5    2715\n",
      "B5    2615\n",
      "B4    2437\n",
      "C1    2055\n",
      "B2    2001\n",
      "C2    1931\n",
      "A3    1810\n",
      "B1    1797\n",
      "A2    1508\n",
      "C3    1488\n",
      "D2    1286\n",
      "C4    1206\n",
      "C5    1154\n",
      "A1    1139\n",
      "D3    1116\n",
      "D1     931\n",
      "D4     918\n",
      "D5     834\n",
      "E1     722\n",
      "E2     614\n",
      "E3     516\n",
      "E4     424\n",
      "E5     387\n",
      "F1     305\n",
      "F2     233\n",
      "F3     174\n",
      "F4     151\n",
      "F5     113\n",
      "G1      94\n",
      "G2      77\n",
      "G4      54\n",
      "G3      45\n",
      "G5      29\n",
      "Name: sub_grade, dtype: int64\n",
      "A4    7.447443\n",
      "B3    7.323016\n",
      "A5    7.037872\n",
      "B5    6.778650\n",
      "B4    6.317236\n",
      "C1    5.327008\n",
      "B2    5.187029\n",
      "C2    5.005573\n",
      "A3    4.691915\n",
      "B1    4.658216\n",
      "A2    3.909065\n",
      "C3    3.857221\n",
      "D2    3.333593\n",
      "C4    3.126215\n",
      "C5    2.991420\n",
      "A1    2.952536\n",
      "D3    2.892915\n",
      "D1    2.413355\n",
      "D4    2.379656\n",
      "D5    2.161910\n",
      "E1    1.871582\n",
      "E2    1.591622\n",
      "E3    1.337585\n",
      "E4    1.099101\n",
      "E5    1.003188\n",
      "F1    0.790627\n",
      "F2    0.603987\n",
      "F3    0.451046\n",
      "F4    0.391425\n",
      "F5    0.292921\n",
      "G1    0.243669\n",
      "G2    0.199601\n",
      "G4    0.139980\n",
      "G3    0.116650\n",
      "G5    0.075174\n",
      "Name: sub_grade, dtype: float64\n"
     ]
    },
    {
     "data": {
      "text/plain": [
       "sub_grade\n",
       "A1     30\n",
       "A2     74\n",
       "A3    103\n",
       "A4    178\n",
       "A5    217\n",
       "B1    171\n",
       "B2    228\n",
       "B3    341\n",
       "B4    329\n",
       "B5    356\n",
       "C1    336\n",
       "C2    321\n",
       "C3    270\n",
       "C4    212\n",
       "C5    208\n",
       "D1    167\n",
       "D2    271\n",
       "D3    256\n",
       "D4    215\n",
       "D5    209\n",
       "E1    198\n",
       "E2    163\n",
       "E3    119\n",
       "E4    126\n",
       "E5    109\n",
       "F1     91\n",
       "F2     70\n",
       "F3     51\n",
       "F4     53\n",
       "F5     54\n",
       "G1     31\n",
       "G2     28\n",
       "G3     19\n",
       "G4     13\n",
       "G5     10\n",
       "dtype: int64"
      ]
     },
     "execution_count": 109,
     "metadata": {},
     "output_type": "execute_result"
    }
   ],
   "source": [
    "#Calculating the number of application on the basis of 'sub_grade'\n",
    "#Observe the largest percentage segments - 'A4', 'B3';\n",
    "#fraction of 'charged_off' loans increases steadily from 'A1' to 'G5'\n",
    "#A GOOD DRIVING FACTOR\n",
    "\n",
    "#applications in each segment\n",
    "print(loanDetails.sub_grade.value_counts())\n",
    "#percentage of total applications in each segment\n",
    "print(loanDetails.sub_grade.value_counts()/len(loanDetails)*100)\n",
    "#charged_off loans in each segment\n",
    "loanDetails[(loanDetails.loan_status==\"Charged Off\")].groupby(['sub_grade']).size()"
   ]
  },
  {
   "cell_type": "code",
   "execution_count": 110,
   "metadata": {},
   "outputs": [
    {
     "data": {
      "image/png": "[encoded data removed]",
      "text/plain": [
       "<Figure size 720x360 with 2 Axes>"
      ]
     },
     "metadata": {},
     "output_type": "display_data"
    }
   ],
   "source": [
    "f, (ax1, ax2) = plt.subplots(nrows=1, ncols=2, figsize=(8,4), dpi=90)\n",
    "\n",
    "sns.countplot(loanDetails['grade'], order=sorted(loanDetails['grade'].unique()), color='#5975A4', saturation=1, ax=ax1)\n",
    "ax1.set_xlabel('grade')\n",
    "ax1.set_ylabel('Count')\n",
    "ax1.set_title('grade')\n",
    "plt.xticks(rotation = 90)\n",
    "\n",
    "data = loanDetails.groupby('grade')['loan_status'].value_counts(normalize=True).to_frame('proportion').reset_index()        \n",
    "sns.barplot(x = 'grade', y = 'proportion', hue= \"loan_status\", data = data, saturation=1, ax=ax2)\n",
    "ax2.set_ylabel('Loan fraction')\n",
    "ax2.set_title('Loan status')\n",
    "plt.xticks(rotation = 90)\n",
    "ax2.set_xlabel('grade')\n",
    "    \n",
    "plt.tight_layout()"
   ]
  },
  {
   "cell_type": "code",
   "execution_count": 111,
   "metadata": {},
   "outputs": [
    {
     "data": {
      "image/png": "[encoded data removed]",
      "text/plain": [
       "<Figure size 1080x360 with 2 Axes>"
      ]
     },
     "metadata": {},
     "output_type": "display_data"
    }
   ],
   "source": [
    "f, (ax1, ax2) = plt.subplots(nrows=1, ncols=2, figsize=(12,4), dpi=90)\n",
    "\n",
    "sns.countplot(loanDetails['sub_grade'], order=sorted(loanDetails['sub_grade'].unique()), color='#5975A4', saturation=1, ax=ax1)\n",
    "ax1.set_xlabel('sub_grade')\n",
    "ax1.set_ylabel('Count')\n",
    "ax1.set_title('sub_grade')\n",
    "plt.xticks(rotation = 90)\n",
    "\n",
    "data = loanDetails.groupby('sub_grade')['loan_status'].value_counts(normalize=True).to_frame('proportion').reset_index()        \n",
    "sns.barplot(x = 'sub_grade', y = 'proportion', hue= \"loan_status\", data = data, saturation=1, ax=ax2)\n",
    "ax2.set_ylabel('Loan fraction')\n",
    "ax2.set_title('Loan status')\n",
    "plt.xticks(rotation = 90)\n",
    "ax2.set_xlabel('sub_grade')\n",
    "    \n",
    "plt.tight_layout()"
   ]
  },
  {
   "cell_type": "code",
   "execution_count": 112,
   "metadata": {},
   "outputs": [],
   "source": [
    "#'sub_grade' and 'grade' have similar relation with 'loan_status'.\n",
    "#So remove 'sub_grade' which has granular information and keep 'grade' \n",
    "loanDetails.drop(['sub_grade'], axis=1,inplace=True)"
   ]
  },
  {
   "cell_type": "markdown",
   "metadata": {},
   "source": [
    "#### Analysing category: emp_title"
   ]
  },
  {
   "cell_type": "code",
   "execution_count": 113,
   "metadata": {},
   "outputs": [
    {
     "data": {
      "text/plain": [
       "28027"
      ]
     },
     "execution_count": 113,
     "metadata": {},
     "output_type": "execute_result"
    }
   ],
   "source": [
    "len(loanDetails.emp_title.value_counts())"
   ]
  },
  {
   "cell_type": "code",
   "execution_count": 114,
   "metadata": {},
   "outputs": [],
   "source": [
    "#has too many unique values to have meaningful analysis. Delete this column\n",
    "loanDetails.drop(['emp_title'], axis=1,inplace=True)"
   ]
  },
  {
   "cell_type": "markdown",
   "metadata": {},
   "source": [
    "#### Analysing category: emp_length"
   ]
  },
  {
   "cell_type": "code",
   "execution_count": 115,
   "metadata": {},
   "outputs": [
    {
     "name": "stdout",
     "output_type": "stream",
     "text": [
      "emp_length\n",
      "-1           1033\n",
      "1 year       3169\n",
      "10+ years    8488\n",
      "2 years      4291\n",
      "3 years      4012\n",
      "4 years      3342\n",
      "5 years      3194\n",
      "6 years      2168\n",
      "7 years      1711\n",
      "8 years      1435\n",
      "9 years      1226\n",
      "< 1 year     4508\n",
      "dtype: int64\n",
      "emp_length\n",
      "-1            2.677761\n",
      "1 year        8.214739\n",
      "10+ years    22.002748\n",
      "2 years      11.123208\n",
      "3 years      10.399979\n",
      "4 years       8.663193\n",
      "5 years       8.279545\n",
      "6 years       5.619929\n",
      "7 years       4.435285\n",
      "8 years       3.719833\n",
      "9 years       3.178059\n",
      "< 1 year     11.685719\n",
      "dtype: float64\n"
     ]
    },
    {
     "data": {
      "text/plain": [
       "emp_length\n",
       "-1            228\n",
       "1 year        456\n",
       "10+ years    1331\n",
       "2 years       567\n",
       "3 years       555\n",
       "4 years       462\n",
       "5 years       458\n",
       "6 years       307\n",
       "7 years       263\n",
       "8 years       203\n",
       "9 years       158\n",
       "< 1 year      639\n",
       "dtype: int64"
      ]
     },
     "execution_count": 115,
     "metadata": {},
     "output_type": "execute_result"
    }
   ],
   "source": [
    "#Calculating the number of application on the basis of 'emp_length'\n",
    "#This has #years as values and involves no mathematical manipulations so considered as a category\n",
    "#Observe the largest percentage segments - '10+ years', '< 1 year';\n",
    "#fraction of 'charged_off' loans is highest for '-1' all others have almost same values, Ignore this for analysis\n",
    "\n",
    "#fix the format\n",
    "loanDetails.emp_length.fillna(value=-1,inplace=True)\n",
    "#applications in each segment\n",
    "print(loanDetails.groupby(['emp_length']).size())\n",
    "#percentage of total applications in each segment\n",
    "print(loanDetails.groupby(['emp_length']).size()/len(loanDetails)*100)\n",
    "#charged_off loans in each segment\n",
    "loanDetails[(loanDetails.loan_status==\"Charged Off\")].groupby(['emp_length']).size()"
   ]
  },
  {
   "cell_type": "code",
   "execution_count": 116,
   "metadata": {},
   "outputs": [
    {
     "data": {
      "image/png": "[encoded data removed]",
      "text/plain": [
       "<Figure size 1080x540 with 2 Axes>"
      ]
     },
     "metadata": {},
     "output_type": "display_data"
    }
   ],
   "source": [
    "f, (ax1, ax2) = plt.subplots(nrows=1, ncols=2, figsize=(12,6), dpi=90)\n",
    "\n",
    "#sns.countplot(loanDetails['emp_length'], color='#5975A4', saturation=1, ax=ax1)\n",
    "ord = loanDetails['emp_length'].unique()\n",
    "data1 = loanDetails['emp_length'].value_counts().to_frame('proportion').reset_index()\n",
    "data1\n",
    "sns.barplot(x = 'index', y = 'proportion', data = data1, order = ord,saturation=1, ax=ax1)\n",
    "ax1.set_xlabel('emp_length')\n",
    "ax1.set_ylabel('Count')\n",
    "ax1.set_title('emp_length')\n",
    "plt.xticks(rotation = 90)\n",
    "\n",
    "data2 = loanDetails.groupby('emp_length')['loan_status'].value_counts(normalize=True).to_frame('proportion').reset_index()        \n",
    "sns.barplot(x = 'emp_length', y = 'proportion', hue= \"loan_status\", data = data2, order = ord,saturation=1, ax=ax2)\n",
    "ax2.set_ylabel('Loan fraction')\n",
    "ax2.set_title('Loan status')\n",
    "plt.xticks(rotation = 90)\n",
    "ax2.set_xlabel('emp_length')\n",
    "    \n",
    "plt.tight_layout()"
   ]
  },
  {
   "cell_type": "markdown",
   "metadata": {},
   "source": [
    "#### Analysing category: home_ownership"
   ]
  },
  {
   "cell_type": "code",
   "execution_count": 117,
   "metadata": {},
   "outputs": [
    {
     "name": "stdout",
     "output_type": "stream",
     "text": [
      "RENT        18480\n",
      "MORTGAGE    17021\n",
      "OWN          2975\n",
      "OTHER          98\n",
      "NONE            3\n",
      "Name: home_ownership, dtype: int64\n",
      "RENT        47.904192\n",
      "MORTGAGE    44.122145\n",
      "OWN          7.711849\n",
      "OTHER        0.254037\n",
      "NONE         0.007777\n",
      "Name: home_ownership, dtype: float64\n"
     ]
    },
    {
     "data": {
      "text/plain": [
       "home_ownership\n",
       "MORTGAGE    2327\n",
       "OTHER         18\n",
       "OWN          443\n",
       "RENT        2839\n",
       "dtype: int64"
      ]
     },
     "execution_count": 117,
     "metadata": {},
     "output_type": "execute_result"
    }
   ],
   "source": [
    "#Calculating the number of application on the basis of 'home_ownership'\n",
    "#Observe the largest percentage segments - 'RENT', 'MORTGAGE';\n",
    "#fraction of 'charged_off' loans - shows no  significant variation; highest for 'Other' and lowest for 'Mortgage' segment;\n",
    "\n",
    "#applications in each segment\n",
    "print(loanDetails.home_ownership.value_counts())\n",
    "#percentage of total applications in each segment\n",
    "print(loanDetails.home_ownership.value_counts()/len(loanDetails)*100)\n",
    "#charged_off loans in each segment\n",
    "loanDetails[(loanDetails.loan_status==\"Charged Off\")].groupby(['home_ownership']).size()"
   ]
  },
  {
   "cell_type": "code",
   "execution_count": 118,
   "metadata": {},
   "outputs": [
    {
     "data": {
      "image/png": "[encoded data removed]",
      "text/plain": [
       "<Figure size 720x360 with 2 Axes>"
      ]
     },
     "metadata": {},
     "output_type": "display_data"
    }
   ],
   "source": [
    "f, (ax1, ax2) = plt.subplots(nrows=1, ncols=2, figsize=(8,4), dpi=90)\n",
    "\n",
    "sns.countplot(loanDetails['home_ownership'], order=sorted(loanDetails['home_ownership'].unique()), color='#5975A4', saturation=1, ax=ax1)\n",
    "ax1.set_xlabel('home_ownership')\n",
    "ax1.set_ylabel('Count')\n",
    "ax1.set_title('home_ownership')\n",
    "plt.xticks(rotation = 90)\n",
    "\n",
    "data = loanDetails.groupby('home_ownership')['loan_status'].value_counts(normalize=True).to_frame('proportion').reset_index()        \n",
    "sns.barplot(x = 'home_ownership', y = 'proportion', hue= \"loan_status\", data = data, saturation=1, ax=ax2)\n",
    "ax2.set_ylabel('Loan fraction')\n",
    "ax2.set_title('Loan status')\n",
    "plt.xticks(rotation = 90)\n",
    "ax2.set_xlabel('home_ownership')\n",
    "    \n",
    "plt.tight_layout()"
   ]
  },
  {
   "cell_type": "markdown",
   "metadata": {},
   "source": [
    "#### Analysing category: verification_status"
   ]
  },
  {
   "cell_type": "code",
   "execution_count": 119,
   "metadata": {},
   "outputs": [
    {
     "name": "stdout",
     "output_type": "stream",
     "text": [
      "Not Verified       16694\n",
      "Verified           12206\n",
      "Source Verified     9677\n",
      "Name: verification_status, dtype: int64\n",
      "Not Verified       43.274490\n",
      "Verified           31.640615\n",
      "Source Verified    25.084895\n",
      "Name: verification_status, dtype: float64\n"
     ]
    },
    {
     "data": {
      "text/plain": [
       "verification_status\n",
       "Not Verified       2142\n",
       "Source Verified    1434\n",
       "Verified           2051\n",
       "dtype: int64"
      ]
     },
     "execution_count": 119,
     "metadata": {},
     "output_type": "execute_result"
    }
   ],
   "source": [
    "#Calculating the number of application on the basis of 'verification_status'\n",
    "#Observe the highest percentage segments - 'Not Verified';\n",
    "#fraction of 'charged_off' loans is almost same for all segments\n",
    "\n",
    "#applications in each segment\n",
    "print(loanDetails.verification_status.value_counts())\n",
    "#percentage of total applications in each segment\n",
    "print(loanDetails.verification_status.value_counts()/len(loanDetails)*100)\n",
    "#charged_off loans in each segment\n",
    "loanDetails[(loanDetails.loan_status==\"Charged Off\")].groupby(['verification_status']).size()"
   ]
  },
  {
   "cell_type": "code",
   "execution_count": 120,
   "metadata": {},
   "outputs": [
    {
     "data": {
      "image/png": "[encoded data removed]",
      "text/plain": [
       "<Figure size 720x360 with 2 Axes>"
      ]
     },
     "metadata": {},
     "output_type": "display_data"
    }
   ],
   "source": [
    "f, (ax1, ax2) = plt.subplots(nrows=1, ncols=2, figsize=(8,4), dpi=90)\n",
    "\n",
    "sns.countplot(loanDetails['verification_status'], order=sorted(loanDetails['verification_status'].unique()), color='#5975A4', saturation=1, ax=ax1)\n",
    "ax1.set_xlabel('verification_status')\n",
    "ax1.set_ylabel('Count')\n",
    "ax1.set_title('verification_status')\n",
    "plt.xticks(rotation = 90)\n",
    "\n",
    "data = loanDetails.groupby('verification_status')['loan_status'].value_counts(normalize=True).to_frame('proportion').reset_index()        \n",
    "sns.barplot(x = 'verification_status', y = 'proportion', hue= \"loan_status\", data = data, saturation=1, ax=ax2)\n",
    "ax2.set_ylabel('Loan fraction')\n",
    "ax2.set_title('Loan status')\n",
    "plt.xticks(rotation = 90)\n",
    "ax2.set_xlabel('verification_status')\n",
    "    \n",
    "plt.tight_layout()"
   ]
  },
  {
   "cell_type": "code",
   "execution_count": 121,
   "metadata": {},
   "outputs": [],
   "source": [
    "#has no significant relation to the analysis. Delete this column\n",
    "loanDetails.drop(['verification_status'], axis=1,inplace=True)"
   ]
  },
  {
   "cell_type": "markdown",
   "metadata": {},
   "source": [
    "#### Analysing category: purpose"
   ]
  },
  {
   "cell_type": "code",
   "execution_count": 122,
   "metadata": {},
   "outputs": [
    {
     "name": "stdout",
     "output_type": "stream",
     "text": [
      "debt_consolidation    18055\n",
      "credit_card            5027\n",
      "other                  3865\n",
      "home_improvement       2875\n",
      "major_purchase         2150\n",
      "small_business         1754\n",
      "car                    1499\n",
      "wedding                 926\n",
      "medical                 681\n",
      "moving                  576\n",
      "vacation                375\n",
      "house                   367\n",
      "educational             325\n",
      "renewable_energy        102\n",
      "Name: purpose, dtype: int64\n",
      "debt_consolidation    46.802499\n",
      "credit_card           13.031081\n",
      "other                 10.018923\n",
      "home_improvement       7.452627\n",
      "major_purchase         5.573269\n",
      "small_business         4.546751\n",
      "car                    3.885735\n",
      "wedding                2.400394\n",
      "medical                1.765301\n",
      "moving                 1.493118\n",
      "vacation               0.972082\n",
      "house                  0.951344\n",
      "educational            0.842471\n",
      "renewable_energy       0.264406\n",
      "Name: purpose, dtype: float64\n"
     ]
    },
    {
     "data": {
      "text/plain": [
       "purpose\n",
       "car                    160\n",
       "credit_card            542\n",
       "debt_consolidation    2767\n",
       "educational             56\n",
       "home_improvement       347\n",
       "house                   59\n",
       "major_purchase         222\n",
       "medical                106\n",
       "moving                  92\n",
       "other                  633\n",
       "renewable_energy        19\n",
       "small_business         475\n",
       "vacation                53\n",
       "wedding                 96\n",
       "dtype: int64"
      ]
     },
     "execution_count": 122,
     "metadata": {},
     "output_type": "execute_result"
    }
   ],
   "source": [
    "#Calculating the number of application on the basis of 'purpose'\n",
    "#Observe the largest percentage segments - 'debt_consolidation';\n",
    "#fraction of 'charged_off' loans - shows variation for each segment;\n",
    "#'small_business', 'renewable_energy' and 'educational' are the 3 highest;\n",
    "#A GOOD DRIVING FACTOR \n",
    "\n",
    "#applications in each segment\n",
    "print(loanDetails.purpose.value_counts())\n",
    "#percentage of total applications in each segment\n",
    "print(loanDetails.purpose.value_counts()/len(loanDetails)*100)\n",
    "#charged_off loans in each segment\n",
    "loanDetails[(loanDetails.loan_status==\"Charged Off\")].groupby(['purpose']).size()"
   ]
  },
  {
   "cell_type": "code",
   "execution_count": 123,
   "metadata": {},
   "outputs": [
    {
     "data": {
      "image/png": "[encoded data removed]",
      "text/plain": [
       "<Figure size 1080x540 with 2 Axes>"
      ]
     },
     "metadata": {},
     "output_type": "display_data"
    }
   ],
   "source": [
    "f, (ax1, ax2) = plt.subplots(nrows=1, ncols=2, figsize=(12,6), dpi=90)\n",
    "\n",
    "sns.countplot(loanDetails['purpose'], order=sorted(loanDetails['purpose'].unique()), color='#5975A4', saturation=1, ax=ax1)\n",
    "ax1.set_xlabel('purpose')\n",
    "ax1.set_ylabel('Count')\n",
    "ax1.set_title('purpose')\n",
    "plt.xticks(rotation = 90)\n",
    "\n",
    "data = loanDetails.groupby('purpose')['loan_status'].value_counts(normalize=True).to_frame('proportion').reset_index()        \n",
    "sns.barplot(x = 'purpose', y = 'proportion', hue= \"loan_status\", data = data, saturation=1, ax=ax2)\n",
    "ax2.set_ylabel('Loan fraction')\n",
    "ax2.set_title('Loan status')\n",
    "plt.xticks(rotation = 90)\n",
    "ax2.set_xlabel('purpose')\n",
    "    \n",
    "plt.tight_layout()"
   ]
  },
  {
   "cell_type": "markdown",
   "metadata": {},
   "source": [
    "#### Analysing category: addr_state"
   ]
  },
  {
   "cell_type": "code",
   "execution_count": 124,
   "metadata": {},
   "outputs": [
    {
     "name": "stdout",
     "output_type": "stream",
     "text": [
      "CA    6949\n",
      "NY    3698\n",
      "FL    2781\n",
      "TX    2659\n",
      "NJ    1790\n",
      "IL    1478\n",
      "PA    1468\n",
      "VA    1369\n",
      "GA    1359\n",
      "MA    1297\n",
      "OH    1178\n",
      "MD    1023\n",
      "AZ     849\n",
      "WA     818\n",
      "CO     766\n",
      "NC     750\n",
      "CT     726\n",
      "MI     704\n",
      "MO     670\n",
      "MN     605\n",
      "NV     479\n",
      "SC     459\n",
      "WI     440\n",
      "AL     435\n",
      "OR     435\n",
      "LA     427\n",
      "KY     311\n",
      "OK     287\n",
      "KS     255\n",
      "UT     252\n",
      "AR     235\n",
      "DC     211\n",
      "RI     194\n",
      "NM     183\n",
      "WV     172\n",
      "HI     166\n",
      "NH     166\n",
      "DE     113\n",
      "MT      83\n",
      "WY      80\n",
      "AK      78\n",
      "SD      62\n",
      "VT      53\n",
      "MS      19\n",
      "TN      17\n",
      "IN       9\n",
      "ID       6\n",
      "IA       5\n",
      "NE       5\n",
      "ME       3\n",
      "Name: addr_state, dtype: int64\n",
      "CA    18.013324\n",
      "NY     9.586023\n",
      "FL     7.208959\n",
      "TX     6.892708\n",
      "NJ     4.640071\n",
      "IL     3.831298\n",
      "PA     3.805376\n",
      "VA     3.548747\n",
      "GA     3.522824\n",
      "MA     3.362107\n",
      "OH     3.053633\n",
      "MD     2.651839\n",
      "AZ     2.200793\n",
      "WA     2.120434\n",
      "CO     1.985639\n",
      "NC     1.944164\n",
      "CT     1.881950\n",
      "MI     1.824922\n",
      "MO     1.736786\n",
      "MN     1.568292\n",
      "NV     1.241672\n",
      "SC     1.189828\n",
      "WI     1.140576\n",
      "AL     1.127615\n",
      "OR     1.127615\n",
      "LA     1.106877\n",
      "KY     0.806180\n",
      "OK     0.743967\n",
      "KS     0.661016\n",
      "UT     0.653239\n",
      "AR     0.609171\n",
      "DC     0.546958\n",
      "RI     0.502890\n",
      "NM     0.474376\n",
      "WV     0.445862\n",
      "HI     0.430308\n",
      "NH     0.430308\n",
      "DE     0.292921\n",
      "MT     0.215154\n",
      "WY     0.207377\n",
      "AK     0.202193\n",
      "SD     0.160718\n",
      "VT     0.137388\n",
      "MS     0.049252\n",
      "TN     0.044068\n",
      "IN     0.023330\n",
      "ID     0.015553\n",
      "IA     0.012961\n",
      "NE     0.012961\n",
      "ME     0.007777\n",
      "Name: addr_state, dtype: float64\n"
     ]
    },
    {
     "data": {
      "text/plain": [
       "addr_state\n",
       "AK      15\n",
       "AL      54\n",
       "AR      27\n",
       "AZ     123\n",
       "CA    1125\n",
       "CO      98\n",
       "CT      94\n",
       "DC      15\n",
       "DE      12\n",
       "FL     504\n",
       "GA     215\n",
       "HI      28\n",
       "ID       1\n",
       "IL     197\n",
       "KS      31\n",
       "KY      45\n",
       "LA      53\n",
       "MA     159\n",
       "MD     162\n",
       "MI     103\n",
       "MN      81\n",
       "MO     114\n",
       "MS       2\n",
       "MT      11\n",
       "NC     114\n",
       "NE       3\n",
       "NH      25\n",
       "NJ     278\n",
       "NM      30\n",
       "NV     108\n",
       "NY     495\n",
       "OH     155\n",
       "OK      40\n",
       "OR      71\n",
       "PA     180\n",
       "RI      25\n",
       "SC      66\n",
       "SD      12\n",
       "TN       2\n",
       "TX     316\n",
       "UT      40\n",
       "VA     177\n",
       "VT       6\n",
       "WA     127\n",
       "WI      63\n",
       "WV      21\n",
       "WY       4\n",
       "dtype: int64"
      ]
     },
     "execution_count": 124,
     "metadata": {},
     "output_type": "execute_result"
    }
   ],
   "source": [
    "#Calculating the number of application on the basis of 'addr_state'\n",
    "#Observe the largest percentage segments - 'CA', 'NY', 'FL';\n",
    "\n",
    "#fraction of 'charged_off' loans - shows a lot of variation for each segment\n",
    "#'NE', 'NV' and 'AK' are the 3 highest;\n",
    "#A GOOD DRIVING FACTOR \n",
    "\n",
    "#applications in each segment\n",
    "print(loanDetails.addr_state.value_counts())\n",
    "#percentage of total applications in each segment\n",
    "print(loanDetails.addr_state.value_counts()/len(loanDetails)*100)\n",
    "#charged_off loans in each segment\n",
    "loanDetails[(loanDetails.loan_status==\"Charged Off\")].groupby(['addr_state']).size()"
   ]
  },
  {
   "cell_type": "code",
   "execution_count": 125,
   "metadata": {},
   "outputs": [
    {
     "data": {
      "image/png": "[encoded data removed]",
      "text/plain": [
       "<Figure size 1440x540 with 2 Axes>"
      ]
     },
     "metadata": {},
     "output_type": "display_data"
    }
   ],
   "source": [
    "f, (ax1, ax2) = plt.subplots(nrows=1, ncols=2, figsize=(16,6), dpi=90)\n",
    "\n",
    "sns.countplot(loanDetails['addr_state'], order=sorted(loanDetails['addr_state'].unique()), color='#5975A4', saturation=1, ax=ax1)\n",
    "ax1.set_xlabel('addr_state')\n",
    "ax1.set_ylabel('Count')\n",
    "ax1.set_title('addr_state')\n",
    "plt.xticks(rotation = 90)\n",
    "\n",
    "data = loanDetails.groupby('addr_state')['loan_status'].value_counts(normalize=True).to_frame('proportion').reset_index()        \n",
    "sns.barplot(x = 'addr_state', y = 'proportion', hue= \"loan_status\", data = data, saturation=1, ax=ax2)\n",
    "ax2.set_ylabel('Loan fraction')\n",
    "ax2.set_title('Loan status')\n",
    "plt.xticks(rotation = 90)\n",
    "ax2.set_xlabel('addr_state')\n",
    "    \n",
    "plt.tight_layout()"
   ]
  },
  {
   "cell_type": "markdown",
   "metadata": {},
   "source": [
    "#### Analysing category: issue_d"
   ]
  },
  {
   "cell_type": "code",
   "execution_count": 126,
   "metadata": {},
   "outputs": [
    {
     "name": "stdout",
     "output_type": "stream",
     "text": [
      "12    4215\n",
      "11    4006\n",
      "10    3761\n",
      "9     3498\n",
      "8     3388\n",
      "7     3351\n",
      "6     3180\n",
      "5     2919\n",
      "4     2831\n",
      "3     2691\n",
      "1     2379\n",
      "2     2358\n",
      "Name: issue_month, dtype: int64\n",
      "12    10.926200\n",
      "11    10.384426\n",
      "10     9.749333\n",
      "9      9.067579\n",
      "8      8.782435\n",
      "7      8.686523\n",
      "6      8.243254\n",
      "5      7.566685\n",
      "4      7.338570\n",
      "3      6.975659\n",
      "1      6.166887\n",
      "2      6.112450\n",
      "Name: issue_month, dtype: float64\n"
     ]
    },
    {
     "data": {
      "text/plain": [
       "issue_month\n",
       "1     321\n",
       "2     290\n",
       "3     347\n",
       "4     370\n",
       "5     466\n",
       "6     483\n",
       "7     479\n",
       "8     468\n",
       "9     547\n",
       "10    580\n",
       "11    598\n",
       "12    678\n",
       "dtype: int64"
      ]
     },
     "execution_count": 126,
     "metadata": {},
     "output_type": "execute_result"
    }
   ],
   "source": [
    "#Calculating the number of application on the basis of 'issue_d'\n",
    "#consider the months\n",
    "# fraction of charged_off loans is similar in all months; Does not help in analysis and can be removed\n",
    "\n",
    "#applications in each segment\n",
    "loanDetails['issue_month']=loanDetails['issue_d'].dt.month\n",
    "#applications in each segment\n",
    "print(loanDetails.issue_month.value_counts())\n",
    "#percentage of total applications in each segment\n",
    "print(loanDetails.issue_month.value_counts()/len(loanDetails)*100)\n",
    "#charged_off loans in each segment\n",
    "loanDetails[(loanDetails.loan_status==\"Charged Off\")].groupby(['issue_month']).size()"
   ]
  },
  {
   "cell_type": "code",
   "execution_count": 127,
   "metadata": {},
   "outputs": [
    {
     "data": {
      "image/png": "[encoded data removed]",
      "text/plain": [
       "<Figure size 720x360 with 2 Axes>"
      ]
     },
     "metadata": {},
     "output_type": "display_data"
    }
   ],
   "source": [
    "f, (ax1, ax2) = plt.subplots(nrows=1, ncols=2, figsize=(8,4), dpi=90)\n",
    "\n",
    "sns.countplot(loanDetails['issue_month'], order=sorted(loanDetails['issue_month'].unique()), color='#5975A4', saturation=1, ax=ax1)\n",
    "ax1.set_xlabel('issue_month')\n",
    "ax1.set_ylabel('Count')\n",
    "ax1.set_title('issue_month')\n",
    "plt.xticks(rotation = 90)\n",
    "\n",
    "data = loanDetails.groupby('issue_month')['loan_status'].value_counts(normalize=True).to_frame('proportion').reset_index()        \n",
    "sns.barplot(x = 'issue_month', y = 'proportion', hue= \"loan_status\", data = data, saturation=1, ax=ax2)\n",
    "ax2.set_ylabel('Loan fraction')\n",
    "ax2.set_title('Loan status')\n",
    "plt.xticks(rotation = 90)\n",
    "ax2.set_xlabel('issue_month')\n",
    "    \n",
    "plt.tight_layout()"
   ]
  },
  {
   "cell_type": "code",
   "execution_count": 128,
   "metadata": {},
   "outputs": [],
   "source": [
    "# fraction of charged_off loans is similar in all months; Does not help in analysis and can be removed\n",
    "loanDetails.drop(['issue_d', 'issue_month'], axis=1,inplace=True)"
   ]
  },
  {
   "cell_type": "markdown",
   "metadata": {},
   "source": [
    "### Quantitative Variables - Univariate Analysis"
   ]
  },
  {
   "cell_type": "markdown",
   "metadata": {},
   "source": [
    "#### Analysing numerical: loan_amnt"
   ]
  },
  {
   "cell_type": "code",
   "execution_count": 129,
   "metadata": {},
   "outputs": [
    {
     "data": {
      "text/plain": [
       "870"
      ]
     },
     "execution_count": 129,
     "metadata": {},
     "output_type": "execute_result"
    }
   ],
   "source": [
    "#Calculating the number of application on the basis of 'loan_amnt'\n",
    "#certain loan amounts show higher frequency\n",
    "#A GOOD DRIVING FACTOR \n",
    "\n",
    "#applications in each segment\n",
    "len(loanDetails.loan_amnt.value_counts())"
   ]
  },
  {
   "cell_type": "code",
   "execution_count": 130,
   "metadata": {},
   "outputs": [
    {
     "name": "stdout",
     "output_type": "stream",
     "text": [
      "count    38577.000000\n",
      "mean     11047.025430\n",
      "std       7348.441646\n",
      "min        500.000000\n",
      "25%       5300.000000\n",
      "50%       9600.000000\n",
      "75%      15000.000000\n",
      "max      35000.000000\n",
      "Name: loan_amnt, dtype: float64\n",
      "Defaulted Loan amount% =  15.98254157875977\n"
     ]
    }
   ],
   "source": [
    "#summary metrics\n",
    "print(loanDetails[\"loan_amnt\"].describe())\n",
    "print(\"Defaulted Loan amount% = \", loanDetails[(loanDetails.loan_status==\"Charged Off\")].loan_amnt.sum()/loanDetails[\"loan_amnt\"].sum()*100)"
   ]
  },
  {
   "cell_type": "code",
   "execution_count": 131,
   "metadata": {},
   "outputs": [
    {
     "data": {
      "image/png": "[encoded data removed]",
      "text/plain": [
       "<Figure size 1080x540 with 2 Axes>"
      ]
     },
     "metadata": {},
     "output_type": "display_data"
    }
   ],
   "source": [
    "f, (ax1, ax2) = plt.subplots(nrows=1, ncols=2, figsize=(12,6), dpi=90)\n",
    "\n",
    "#sns.countplot(loanDetails['addr_state'], order=sorted(loanDetails['addr_state'].unique()), color='#5975A4', saturation=1, ax=ax1)\n",
    "sns.distplot(loanDetails.loc[loanDetails['loan_amnt'].notnull(), 'loan_amnt'], kde=False, ax=ax1)\n",
    "ax1.set_xlabel('loan_amnt')\n",
    "ax1.set_ylabel('Count')\n",
    "ax1.set_title('loan_amnt')\n",
    "plt.xticks(rotation = 90)\n",
    "\n",
    "sns.boxplot(x='loan_amnt', y='loan_status', data=loanDetails, ax=ax2)\n",
    "ax2.set_ylabel('')\n",
    "ax2.set_title('loan_amnt' + ' by Loan Status')\n",
    "ax2.set_xlabel('loan_amnt')\n",
    "    \n",
    "plt.tight_layout()"
   ]
  },
  {
   "cell_type": "markdown",
   "metadata": {},
   "source": [
    "#### Analyse as category"
   ]
  },
  {
   "cell_type": "code",
   "execution_count": 132,
   "metadata": {},
   "outputs": [
    {
     "name": "stdout",
     "output_type": "stream",
     "text": [
      "(5000.0, 10000.0]     12802\n",
      "(0.0, 5000.0]          9472\n",
      "(10000.0, 15000.0]     7683\n",
      "(15000.0, 20000.0]     4349\n",
      "(20000.0, 25000.0]     2836\n",
      "(30000.0, 35000.0]      735\n",
      "(25000.0, 30000.0]      700\n",
      "Name: loan_amnt_bin, dtype: int64\n"
     ]
    },
    {
     "data": {
      "text/plain": [
       "loan_amnt_bin\n",
       "(0.0, 5000.0]         1314\n",
       "(5000.0, 10000.0]     1642\n",
       "(10000.0, 15000.0]    1055\n",
       "(15000.0, 20000.0]     751\n",
       "(20000.0, 25000.0]     542\n",
       "(25000.0, 30000.0]     143\n",
       "(30000.0, 35000.0]     180\n",
       "dtype: int64"
      ]
     },
     "execution_count": 132,
     "metadata": {},
     "output_type": "execute_result"
    }
   ],
   "source": [
    "#higher the loan amount the greater the charged_off percentage\n",
    "#define and sort into buckets\n",
    "loan_amnt_bucket_array = np.linspace(0, 35000, 8)\n",
    "loanDetails['loan_amnt_bin'] = pd.cut(loanDetails['loan_amnt'], loan_amnt_bucket_array)\n",
    "\n",
    "#applications in each bucket\n",
    "print(loanDetails.loan_amnt_bin.value_counts())\n",
    "#charged_off loans in each bucket\n",
    "loanDetails[(loanDetails.loan_status==\"Charged Off\")].groupby(['loan_amnt_bin']).size()"
   ]
  },
  {
   "cell_type": "code",
   "execution_count": 133,
   "metadata": {},
   "outputs": [
    {
     "data": {
      "image/png": "[encoded data removed]",
      "text/plain": [
       "<Figure size 720x360 with 2 Axes>"
      ]
     },
     "metadata": {},
     "output_type": "display_data"
    }
   ],
   "source": [
    "f, (ax1, ax2) = plt.subplots(nrows=1, ncols=2, figsize=(8,4), dpi=90)\n",
    "\n",
    "sns.countplot(loanDetails['loan_amnt_bin'], order=sorted(loanDetails['loan_amnt_bin'].unique()), color='#5975A4', saturation=1, ax=ax1)\n",
    "ax1.set_xlabel('loan_amnt_bin')\n",
    "ax1.set_ylabel('Count')\n",
    "ax1.set_title('loan_amnt_bin')\n",
    "plt.xticks(rotation = 90)\n",
    "\n",
    "data = loanDetails.groupby('loan_amnt_bin')['loan_status'].value_counts(normalize=True).to_frame('proportion').reset_index()        \n",
    "sns.barplot(x = 'loan_amnt_bin', y = 'proportion', hue= \"loan_status\", data = data, saturation=1, ax=ax2)\n",
    "ax2.set_ylabel('Loan fraction')\n",
    "ax2.set_title('Loan status')\n",
    "plt.xticks(rotation = 90)\n",
    "ax2.set_xlabel('loan_amnt_bin')\n",
    "    \n",
    "plt.tight_layout()"
   ]
  },
  {
   "cell_type": "markdown",
   "metadata": {},
   "source": [
    "#### Analysing numerical: int_rate"
   ]
  },
  {
   "cell_type": "code",
   "execution_count": 134,
   "metadata": {},
   "outputs": [
    {
     "data": {
      "text/plain": [
       "370"
      ]
     },
     "execution_count": 134,
     "metadata": {},
     "output_type": "execute_result"
    }
   ],
   "source": [
    "#Calculating the number of application on the basis of 'int_rate'\n",
    "\n",
    "#applications in each segment\n",
    "len(loanDetails.int_rate.value_counts())"
   ]
  },
  {
   "cell_type": "code",
   "execution_count": 135,
   "metadata": {},
   "outputs": [
    {
     "data": {
      "text/plain": [
       "count    38577.000000\n",
       "mean        11.932219\n",
       "std          3.691327\n",
       "min          5.420000\n",
       "25%          8.940000\n",
       "50%         11.710000\n",
       "75%         14.380000\n",
       "max         24.400000\n",
       "Name: int_rate, dtype: float64"
      ]
     },
     "execution_count": 135,
     "metadata": {},
     "output_type": "execute_result"
    }
   ],
   "source": [
    "#summary metrics\n",
    "loanDetails[\"int_rate\"].describe()"
   ]
  },
  {
   "cell_type": "code",
   "execution_count": 136,
   "metadata": {
    "scrolled": false
   },
   "outputs": [
    {
     "data": {
      "image/png": "[encoded data removed]",
      "text/plain": [
       "<Figure size 1080x540 with 2 Axes>"
      ]
     },
     "metadata": {},
     "output_type": "display_data"
    }
   ],
   "source": [
    "f, (ax1, ax2) = plt.subplots(nrows=1, ncols=2, figsize=(12,6), dpi=90)\n",
    "\n",
    "sns.distplot(loanDetails.loc[loanDetails['int_rate'].notnull(), 'int_rate'], kde=False, ax=ax1)\n",
    "ax1.set_xlabel('int_rate')\n",
    "ax1.set_ylabel('Count')\n",
    "ax1.set_title('int_rate')\n",
    "plt.xticks(rotation = 90)\n",
    "\n",
    "sns.boxplot(x='int_rate', y='loan_status', data=loanDetails, ax=ax2)\n",
    "ax2.set_ylabel('')\n",
    "ax2.set_title('int_rate' + ' by Loan Status')\n",
    "ax2.set_xlabel('int_rate')\n",
    "    \n",
    "plt.tight_layout()"
   ]
  },
  {
   "cell_type": "code",
   "execution_count": 137,
   "metadata": {},
   "outputs": [],
   "source": [
    "#distribution with left skew; remove outliers and analyse - top 5%\n",
    "#Relates closely to loan amount and can be ignored"
   ]
  },
  {
   "cell_type": "markdown",
   "metadata": {},
   "source": [
    "#### Analyse as category"
   ]
  },
  {
   "cell_type": "code",
   "execution_count": 138,
   "metadata": {},
   "outputs": [
    {
     "name": "stdout",
     "output_type": "stream",
     "text": [
      "(9.216, 13.012]     14152\n",
      "(13.012, 16.808]    10692\n",
      "(5.401, 9.216]       9846\n",
      "(16.808, 20.604]     3356\n",
      "(20.604, 24.4]        531\n",
      "Name: int_rate_bin, dtype: int64\n"
     ]
    },
    {
     "data": {
      "text/plain": [
       "int_rate_bin\n",
       "(5.401, 9.216]       590\n",
       "(9.216, 13.012]     1831\n",
       "(13.012, 16.808]    2013\n",
       "(16.808, 20.604]     979\n",
       "(20.604, 24.4]       214\n",
       "dtype: int64"
      ]
     },
     "execution_count": 138,
     "metadata": {},
     "output_type": "execute_result"
    }
   ],
   "source": [
    "#higher the int_rate the greater the charged_off percentage\n",
    "#define and sort into buckets\n",
    "#int_rate_bucket_array = np.linspace(loanDetails['int_rate'].min, loanDetails['int_rate'].max, 5)\n",
    "loanDetails['int_rate_bin'] = pd.cut(loanDetails['int_rate'], 5)\n",
    "\n",
    "#applications in each bucket\n",
    "print(loanDetails.int_rate_bin.value_counts())\n",
    "#charged_off loans in each bucket\n",
    "loanDetails[(loanDetails.loan_status==\"Charged Off\")].groupby(['int_rate_bin']).size()"
   ]
  },
  {
   "cell_type": "code",
   "execution_count": 139,
   "metadata": {
    "scrolled": true
   },
   "outputs": [
    {
     "data": {
      "image/png": "[encoded data removed]",
      "text/plain": [
       "<Figure size 720x360 with 2 Axes>"
      ]
     },
     "metadata": {},
     "output_type": "display_data"
    }
   ],
   "source": [
    "f, (ax1, ax2) = plt.subplots(nrows=1, ncols=2, figsize=(8,4), dpi=90)\n",
    "\n",
    "sns.countplot(loanDetails['int_rate_bin'], order=sorted(loanDetails['int_rate_bin'].unique()), color='#5975A4', saturation=1, ax=ax1)\n",
    "ax1.set_xlabel('int_rate_bin')\n",
    "ax1.set_ylabel('Count')\n",
    "ax1.set_title('int_rate_bin')\n",
    "plt.xticks(rotation = 90)\n",
    "\n",
    "data = loanDetails.groupby('int_rate_bin')['loan_status'].value_counts(normalize=True).to_frame('proportion').reset_index()        \n",
    "sns.barplot(x = 'int_rate_bin', y = 'proportion', hue= \"loan_status\", data = data, saturation=1, ax=ax2)\n",
    "ax2.set_ylabel('Loan fraction')\n",
    "ax2.set_title('Loan status')\n",
    "plt.xticks(rotation = 90)\n",
    "ax2.set_xlabel('int_rate_bin')\n",
    "    \n",
    "plt.tight_layout()"
   ]
  },
  {
   "cell_type": "code",
   "execution_count": 140,
   "metadata": {},
   "outputs": [],
   "source": [
    "#since int_rate is related to grade int_rate_bin may be redundant. Discard the column\n",
    "loanDetails.drop(['int_rate_bin'], axis=1,inplace=True)"
   ]
  },
  {
   "cell_type": "markdown",
   "metadata": {},
   "source": [
    "#### Analysing numerical: annual_inc"
   ]
  },
  {
   "cell_type": "code",
   "execution_count": 141,
   "metadata": {},
   "outputs": [
    {
     "data": {
      "text/plain": [
       "5215"
      ]
     },
     "execution_count": 141,
     "metadata": {},
     "output_type": "execute_result"
    }
   ],
   "source": [
    "#Calculating the number of application on the basis of 'annual_inc'\n",
    "\n",
    "#applications in each segment\n",
    "len(loanDetails.annual_inc.value_counts())"
   ]
  },
  {
   "cell_type": "code",
   "execution_count": 142,
   "metadata": {},
   "outputs": [
    {
     "data": {
      "text/plain": [
       "count    3.857700e+04\n",
       "mean     6.877797e+04\n",
       "std      6.421868e+04\n",
       "min      4.000000e+03\n",
       "25%      4.000000e+04\n",
       "50%      5.886800e+04\n",
       "75%      8.200000e+04\n",
       "max      6.000000e+06\n",
       "Name: annual_inc, dtype: float64"
      ]
     },
     "execution_count": 142,
     "metadata": {},
     "output_type": "execute_result"
    }
   ],
   "source": [
    "#summary metrics\n",
    "loanDetails[\"annual_inc\"].describe()"
   ]
  },
  {
   "cell_type": "code",
   "execution_count": 144,
   "metadata": {
    "scrolled": false
   },
   "outputs": [
    {
     "data": {
      "image/png": "[encoded data removed]",
      "text/plain": [
       "<Figure size 1080x540 with 2 Axes>"
      ]
     },
     "metadata": {},
     "output_type": "display_data"
    }
   ],
   "source": [
    "f, (ax1, ax2) = plt.subplots(nrows=1, ncols=2, figsize=(12,6), dpi=90)\n",
    "\n",
    "sns.distplot(loanDetails.loc[loanDetails['annual_inc'].notnull(), 'int_rate'], kde=False, ax=ax1)\n",
    "ax1.set_xlabel('annual_inc')\n",
    "ax1.set_ylabel('Count')\n",
    "ax1.set_title('annual_inc')\n",
    "plt.xticks(rotation = 90)\n",
    "\n",
    "sns.boxplot(x='annual_inc', y='loan_status', data=loanDetails, ax=ax2, showfliers=False)\n",
    "ax2.set_ylabel('')\n",
    "ax2.set_title('annual_inc' + ' by Loan Status')\n",
    "ax2.set_xlabel('annual_inc')\n",
    "    \n",
    "plt.tight_layout()"
   ]
  },
  {
   "cell_type": "markdown",
   "metadata": {},
   "source": [
    "#### Analyse as category"
   ]
  },
  {
   "cell_type": "code",
   "execution_count": 148,
   "metadata": {},
   "outputs": [
    {
     "name": "stdout",
     "output_type": "stream",
     "text": [
      "(3999.999, 30000.0]      4551\n",
      "(75000.0, 90000.0]       4035\n",
      "(44500.0, 50004.0]       3909\n",
      "(65004.0, 75000.0]       3894\n",
      "(58868.0, 65004.0]       3874\n",
      "(37196.16, 44500.0]      3859\n",
      "(115000.0, 6000000.0]    3854\n",
      "(50004.0, 58868.0]       3805\n",
      "(90000.0, 115000.0]      3631\n",
      "(30000.0, 37196.16]      3165\n",
      "Name: annual_inc_bin, dtype: int64\n"
     ]
    },
    {
     "data": {
      "text/plain": [
       "annual_inc_bin\n",
       "(3999.999, 30000.0]      839\n",
       "(30000.0, 37196.16]      574\n",
       "(37196.16, 44500.0]      627\n",
       "(44500.0, 50004.0]       592\n",
       "(50004.0, 58868.0]       561\n",
       "(58868.0, 65004.0]       588\n",
       "(65004.0, 75000.0]       518\n",
       "(75000.0, 90000.0]       510\n",
       "(90000.0, 115000.0]      389\n",
       "(115000.0, 6000000.0]    429\n",
       "dtype: int64"
      ]
     },
     "execution_count": 148,
     "metadata": {},
     "output_type": "execute_result"
    }
   ],
   "source": [
    "#higher the annual_inc the lesser the charged_off percentage\n",
    "#define and sort into buckets\n",
    "\n",
    "loanDetails['annual_inc_bin'] = pd.qcut(loanDetails['annual_inc'], 10)\n",
    "\n",
    "#applications in each bucket\n",
    "print(loanDetails.annual_inc_bin.value_counts())\n",
    "#charged_off loans in each bucket\n",
    "loanDetails[(loanDetails.loan_status==\"Charged Off\")].groupby(['annual_inc_bin']).size()"
   ]
  },
  {
   "cell_type": "code",
   "execution_count": 149,
   "metadata": {
    "scrolled": true
   },
   "outputs": [
    {
     "data": {
      "image/png": "[encoded data removed]",
      "text/plain": [
       "<Figure size 720x360 with 2 Axes>"
      ]
     },
     "metadata": {},
     "output_type": "display_data"
    }
   ],
   "source": [
    "f, (ax1, ax2) = plt.subplots(nrows=1, ncols=2, figsize=(8,4), dpi=90)\n",
    "\n",
    "sns.countplot(loanDetails['annual_inc_bin'], order=sorted(loanDetails['annual_inc_bin'].unique()), color='#5975A4', saturation=1, ax=ax1)\n",
    "ax1.set_xlabel('annual_inc_bin')\n",
    "ax1.set_ylabel('Count')\n",
    "ax1.set_title('annual_inc_bin')\n",
    "plt.xticks(rotation = 90)\n",
    "\n",
    "data = loanDetails.groupby('annual_inc_bin')['loan_status'].value_counts(normalize=True).to_frame('proportion').reset_index()        \n",
    "sns.barplot(x = 'annual_inc_bin', y = 'proportion', hue= \"loan_status\", data = data, saturation=1, ax=ax2)\n",
    "ax2.set_ylabel('Loan fraction')\n",
    "ax2.set_title('Loan status')\n",
    "plt.xticks(rotation = 90)\n",
    "ax2.set_xlabel('annual_inc_bin')\n",
    "    \n",
    "plt.tight_layout()"
   ]
  },
  {
   "cell_type": "markdown",
   "metadata": {},
   "source": [
    "#### Analysing numerical: dti"
   ]
  },
  {
   "cell_type": "code",
   "execution_count": 150,
   "metadata": {},
   "outputs": [
    {
     "data": {
      "text/plain": [
       "2853"
      ]
     },
     "execution_count": 150,
     "metadata": {},
     "output_type": "execute_result"
    }
   ],
   "source": [
    "#Calculating the number of application on the basis of 'dti'\n",
    "\n",
    "#applications in each segment\n",
    "len(loanDetails.dti.value_counts())"
   ]
  },
  {
   "cell_type": "code",
   "execution_count": 151,
   "metadata": {},
   "outputs": [
    {
     "data": {
      "text/plain": [
       "count    38577.000000\n",
       "mean        13.272727\n",
       "std          6.673044\n",
       "min          0.000000\n",
       "25%          8.130000\n",
       "50%         13.370000\n",
       "75%         18.560000\n",
       "max         29.990000\n",
       "Name: dti, dtype: float64"
      ]
     },
     "execution_count": 151,
     "metadata": {},
     "output_type": "execute_result"
    }
   ],
   "source": [
    "#summary metrics\n",
    "loanDetails[\"dti\"].describe()"
   ]
  },
  {
   "cell_type": "code",
   "execution_count": 152,
   "metadata": {
    "scrolled": true
   },
   "outputs": [
    {
     "data": {
      "image/png": "[encoded data removed]",
      "text/plain": [
       "<Figure size 1080x540 with 2 Axes>"
      ]
     },
     "metadata": {},
     "output_type": "display_data"
    }
   ],
   "source": [
    "f, (ax1, ax2) = plt.subplots(nrows=1, ncols=2, figsize=(12,6), dpi=90)\n",
    "\n",
    "sns.distplot(loanDetails.loc[loanDetails['dti'].notnull(), 'dti'], kde=False, ax=ax1)\n",
    "ax1.set_xlabel('dti')\n",
    "ax1.set_ylabel('Count')\n",
    "ax1.set_title('dti')\n",
    "plt.xticks(rotation = 90)\n",
    "\n",
    "sns.boxplot(x='dti', y='loan_status', data=loanDetails, ax=ax2)\n",
    "ax2.set_ylabel('')\n",
    "ax2.set_title('dti' + ' by Loan Status')\n",
    "ax2.set_xlabel('dti')\n",
    "    \n",
    "plt.tight_layout()"
   ]
  },
  {
   "cell_type": "code",
   "execution_count": 153,
   "metadata": {},
   "outputs": [],
   "source": [
    "# Normal distribution no skewing no outliers"
   ]
  },
  {
   "cell_type": "markdown",
   "metadata": {},
   "source": [
    "#### Analyse as category"
   ]
  },
  {
   "cell_type": "code",
   "execution_count": 154,
   "metadata": {},
   "outputs": [
    {
     "name": "stdout",
     "output_type": "stream",
     "text": [
      "2    11349\n",
      "1    10242\n",
      "3     8918\n",
      "0     6372\n",
      "4     1696\n",
      "Name: dti_bin, dtype: int64\n"
     ]
    },
    {
     "data": {
      "text/plain": [
       "dti_bin\n",
       "0     770\n",
       "1    1359\n",
       "2    1722\n",
       "3    1511\n",
       "4     265\n",
       "dtype: int64"
      ]
     },
     "execution_count": 154,
     "metadata": {},
     "output_type": "execute_result"
    }
   ],
   "source": [
    "#higher the dti the greater the charged_off percentage\n",
    "#define and sort into buckets\n",
    "\n",
    "loanDetails['dti_bin'] = pd.cut(loanDetails['dti'], 5, labels=False)\n",
    "\n",
    "#applications in each bucket\n",
    "print(loanDetails.dti_bin.value_counts())\n",
    "#charged_off loans in each bucket\n",
    "loanDetails[(loanDetails.loan_status==\"Charged Off\")].groupby(['dti_bin']).size()"
   ]
  },
  {
   "cell_type": "code",
   "execution_count": 155,
   "metadata": {},
   "outputs": [
    {
     "data": {
      "image/png": "[encoded data removed]",
      "text/plain": [
       "<Figure size 720x360 with 2 Axes>"
      ]
     },
     "metadata": {},
     "output_type": "display_data"
    }
   ],
   "source": [
    "f, (ax1, ax2) = plt.subplots(nrows=1, ncols=2, figsize=(8,4), dpi=90)\n",
    "\n",
    "sns.countplot(loanDetails['dti_bin'], order=sorted(loanDetails['dti_bin'].unique()), color='#5975A4', saturation=1, ax=ax1)\n",
    "ax1.set_xlabel('dti_bin')\n",
    "ax1.set_ylabel('Count')\n",
    "ax1.set_title('dti_bin')\n",
    "plt.xticks(rotation = 90)\n",
    "\n",
    "data = loanDetails.groupby('dti_bin')['loan_status'].value_counts(normalize=True).to_frame('proportion').reset_index()        \n",
    "sns.barplot(x = 'dti_bin', y = 'proportion', hue= \"loan_status\", data = data, saturation=1, ax=ax2)\n",
    "ax2.set_ylabel('Loan fraction')\n",
    "ax2.set_title('Loan status')\n",
    "plt.xticks(rotation = 90)\n",
    "ax2.set_xlabel('dti_bin')\n",
    "    \n",
    "plt.tight_layout()"
   ]
  },
  {
   "cell_type": "markdown",
   "metadata": {},
   "source": [
    "#### Analysing numerical: revol_bal"
   ]
  },
  {
   "cell_type": "code",
   "execution_count": 156,
   "metadata": {},
   "outputs": [
    {
     "data": {
      "text/plain": [
       "21275"
      ]
     },
     "execution_count": 156,
     "metadata": {},
     "output_type": "execute_result"
    }
   ],
   "source": [
    "#Calculating the number of application on the basis of 'revol_bal'\n",
    "\n",
    "#applications in each segment\n",
    "len(loanDetails.revol_bal.value_counts())"
   ]
  },
  {
   "cell_type": "code",
   "execution_count": 157,
   "metadata": {},
   "outputs": [
    {
     "data": {
      "text/plain": [
       "count     38577.000000\n",
       "mean      13289.489826\n",
       "std       15866.492241\n",
       "min           0.000000\n",
       "25%        3650.000000\n",
       "50%        8762.000000\n",
       "75%       16912.000000\n",
       "max      149588.000000\n",
       "Name: revol_bal, dtype: float64"
      ]
     },
     "execution_count": 157,
     "metadata": {},
     "output_type": "execute_result"
    }
   ],
   "source": [
    "#summary metrics\n",
    "loanDetails[\"revol_bal\"].describe()"
   ]
  },
  {
   "cell_type": "code",
   "execution_count": 179,
   "metadata": {
    "scrolled": true
   },
   "outputs": [
    {
     "data": {
      "image/png": "[encoded data removed]",
      "text/plain": [
       "<Figure size 1080x540 with 2 Axes>"
      ]
     },
     "metadata": {},
     "output_type": "display_data"
    }
   ],
   "source": [
    "f, (ax1, ax2) = plt.subplots(nrows=1, ncols=2, figsize=(12,6), dpi=90)\n",
    "\n",
    "sns.distplot(loanDetails.loc[loanDetails['revol_bal'].notnull(), 'revol_bal'], kde=False, ax=ax1)\n",
    "ax1.set_xlabel('revol_bal')\n",
    "ax1.set_ylabel('Count')\n",
    "ax1.set_title('revol_bal')\n",
    "plt.xticks(rotation = 90)\n",
    "\n",
    "sns.boxplot(x='revol_bal', y='loan_status', data=loanDetails, ax=ax2,showfliers=False)\n",
    "ax2.set_ylabel('')\n",
    "ax2.set_title('revol_bal' + ' by Loan Status')\n",
    "ax2.set_xlabel('revol_bal')\n",
    "    \n",
    "plt.tight_layout()"
   ]
  },
  {
   "cell_type": "code",
   "execution_count": 159,
   "metadata": {},
   "outputs": [],
   "source": [
    "# Normal distribution skewing to the left; remove outliers top 5%\n"
   ]
  },
  {
   "cell_type": "markdown",
   "metadata": {},
   "source": [
    "#### Analysing numerical: revol_util"
   ]
  },
  {
   "cell_type": "code",
   "execution_count": 160,
   "metadata": {},
   "outputs": [
    {
     "data": {
      "text/plain": [
       "1088"
      ]
     },
     "execution_count": 160,
     "metadata": {},
     "output_type": "execute_result"
    }
   ],
   "source": [
    "#Calculating the number of application on the basis of 'revol_util'\n",
    "\n",
    "#applications in each segment\n",
    "len(loanDetails.revol_util.value_counts())"
   ]
  },
  {
   "cell_type": "code",
   "execution_count": 161,
   "metadata": {},
   "outputs": [
    {
     "data": {
      "text/plain": [
       "count    38527.000000\n",
       "mean        48.702777\n",
       "std         28.364741\n",
       "min          0.000000\n",
       "25%         25.200000\n",
       "50%         49.100000\n",
       "75%         72.300000\n",
       "max         99.900000\n",
       "Name: revol_util, dtype: float64"
      ]
     },
     "execution_count": 161,
     "metadata": {},
     "output_type": "execute_result"
    }
   ],
   "source": [
    "#summary metrics\n",
    "loanDetails[\"revol_util\"].describe()"
   ]
  },
  {
   "cell_type": "code",
   "execution_count": 162,
   "metadata": {
    "scrolled": true
   },
   "outputs": [
    {
     "data": {
      "image/png": "[encoded data removed]",
      "text/plain": [
       "<Figure size 720x360 with 2 Axes>"
      ]
     },
     "metadata": {},
     "output_type": "display_data"
    }
   ],
   "source": [
    "f, (ax1, ax2) = plt.subplots(nrows=1, ncols=2, figsize=(8,4), dpi=90)\n",
    "\n",
    "sns.distplot(loanDetails.loc[loanDetails['revol_util'].notnull(), 'revol_util'], kde=False, ax=ax1)\n",
    "ax1.set_xlabel('revol_util')\n",
    "ax1.set_ylabel('Count')\n",
    "ax1.set_title('revol_util')\n",
    "plt.xticks(rotation = 90)\n",
    "\n",
    "sns.boxplot(x='revol_util', y='loan_status', data=loanDetails, ax=ax2)\n",
    "ax2.set_ylabel('')\n",
    "ax2.set_title('revol_util' + ' by Loan Status')\n",
    "ax2.set_xlabel('revol_util')\n",
    "    \n",
    "plt.tight_layout()"
   ]
  },
  {
   "cell_type": "code",
   "execution_count": 163,
   "metadata": {},
   "outputs": [],
   "source": [
    "#normal distribbution with a spike at 0; the percentile metrics are same as the values.\n",
    "#May not add much value. Ignoring for now.\n",
    "loanDetails.drop(['revol_util'], axis=1,inplace=True)"
   ]
  },
  {
   "cell_type": "markdown",
   "metadata": {},
   "source": [
    "#### Analysing numerical: total_acc"
   ]
  },
  {
   "cell_type": "code",
   "execution_count": 164,
   "metadata": {},
   "outputs": [
    {
     "data": {
      "text/plain": [
       "82"
      ]
     },
     "execution_count": 164,
     "metadata": {},
     "output_type": "execute_result"
    }
   ],
   "source": [
    "#Calculating the number of application on the basis of 'total_acc'\n",
    "\n",
    "#applications in each segment\n",
    "len(loanDetails.total_acc.value_counts())"
   ]
  },
  {
   "cell_type": "code",
   "execution_count": 165,
   "metadata": {},
   "outputs": [
    {
     "data": {
      "text/plain": [
       "count    38577.000000\n",
       "mean        22.052648\n",
       "std         11.425861\n",
       "min          2.000000\n",
       "25%         13.000000\n",
       "50%         20.000000\n",
       "75%         29.000000\n",
       "max         90.000000\n",
       "Name: total_acc, dtype: float64"
      ]
     },
     "execution_count": 165,
     "metadata": {},
     "output_type": "execute_result"
    }
   ],
   "source": [
    "#summary metrics\n",
    "loanDetails[\"total_acc\"].describe()"
   ]
  },
  {
   "cell_type": "code",
   "execution_count": 167,
   "metadata": {
    "scrolled": true
   },
   "outputs": [
    {
     "data": {
      "image/png": "[encoded data removed]",
      "text/plain": [
       "<Figure size 720x360 with 2 Axes>"
      ]
     },
     "metadata": {},
     "output_type": "display_data"
    }
   ],
   "source": [
    "f, (ax1, ax2) = plt.subplots(nrows=1, ncols=2, figsize=(8,4), dpi=90)\n",
    "\n",
    "sns.distplot(loanDetails.loc[loanDetails['total_acc'].notnull(), 'total_acc'], kde=False, ax=ax1)\n",
    "ax1.set_xlabel('total_acc')\n",
    "ax1.set_ylabel('Count')\n",
    "ax1.set_title('total_acc')\n",
    "plt.xticks(rotation = 90)\n",
    "\n",
    "sns.boxplot(x='total_acc', y='loan_status', data=loanDetails, ax=ax2, showfliers=False)\n",
    "ax2.set_ylabel('')\n",
    "ax2.set_title('total_acc' + ' by Loan Status')\n",
    "ax2.set_xlabel('total_acc')\n",
    "    \n",
    "plt.tight_layout()"
   ]
  },
  {
   "cell_type": "markdown",
   "metadata": {},
   "source": [
    "#### Analysing numerical: total_pymnt"
   ]
  },
  {
   "cell_type": "code",
   "execution_count": 168,
   "metadata": {},
   "outputs": [
    {
     "data": {
      "text/plain": [
       "36714"
      ]
     },
     "execution_count": 168,
     "metadata": {},
     "output_type": "execute_result"
    }
   ],
   "source": [
    "#Calculating the number of application on the basis of 'total_pymnt'\n",
    "\n",
    "#applications in each segment\n",
    "len(loanDetails.total_pymnt.value_counts())"
   ]
  },
  {
   "cell_type": "code",
   "execution_count": 169,
   "metadata": {},
   "outputs": [
    {
     "data": {
      "text/plain": [
       "count    38577.000000\n",
       "mean     11866.970365\n",
       "std       8809.856227\n",
       "min          0.000000\n",
       "25%       5513.497338\n",
       "50%       9674.048405\n",
       "75%      16136.952430\n",
       "max      58563.679930\n",
       "Name: total_pymnt, dtype: float64"
      ]
     },
     "execution_count": 169,
     "metadata": {},
     "output_type": "execute_result"
    }
   ],
   "source": [
    "#summary metrics\n",
    "loanDetails[\"total_pymnt\"].describe()"
   ]
  },
  {
   "cell_type": "code",
   "execution_count": 171,
   "metadata": {
    "scrolled": true
   },
   "outputs": [
    {
     "data": {
      "image/png": "[encoded data removed]",
      "text/plain": [
       "<Figure size 720x360 with 2 Axes>"
      ]
     },
     "metadata": {},
     "output_type": "display_data"
    }
   ],
   "source": [
    "f, (ax1, ax2) = plt.subplots(nrows=1, ncols=2, figsize=(8,4), dpi=90)\n",
    "\n",
    "sns.distplot(loanDetails.loc[loanDetails['total_pymnt'].notnull(), 'total_acc'], kde=False, ax=ax1)\n",
    "ax1.set_xlabel('total_pymnt')\n",
    "ax1.set_ylabel('Count')\n",
    "ax1.set_title('total_pymnt')\n",
    "plt.xticks(rotation = 90)\n",
    "\n",
    "sns.boxplot(x='total_pymnt', y='loan_status', data=loanDetails, ax=ax2, showfliers=False)\n",
    "ax2.set_ylabel('')\n",
    "ax2.set_title('total_pymnt' + ' by Loan Status')\n",
    "ax2.set_xlabel('total_pymnt')\n",
    "    \n",
    "plt.tight_layout()"
   ]
  },
  {
   "cell_type": "markdown",
   "metadata": {},
   "source": [
    "### Summary\n",
    "Some of driving factors identified above that indicate high likelyhood of charged_off loan are -\n",
    "- term:60 months(25.313785%)\n",
    "- grade: G(33.78%),F(32.68%)\n",
    "- sub_grade: F5(47.79%),G3(42.22%)\n",
    "- purpose: small_business(27.08%), renewable_energy(18.63%)\n",
    "- home_ownership: Others(18.37%)\n",
    "\n",
    "- higher the annual_inc the lesser the charged_off percentage\n",
    "- higher the loan amount, dti, interest rate the greater the charged_off percentage"
   ]
  },
  {
   "cell_type": "markdown",
   "metadata": {},
   "source": [
    "## Data Analysis - Bi-Variate"
   ]
  },
  {
   "cell_type": "code",
   "execution_count": 172,
   "metadata": {},
   "outputs": [
    {
     "name": "stdout",
     "output_type": "stream",
     "text": [
      "<class 'pandas.core.frame.DataFrame'>\n",
      "Int64Index: 38577 entries, 0 to 39716\n",
      "Data columns (total 36 columns):\n",
      "loan_amnt                  38577 non-null int64\n",
      "funded_amnt                38577 non-null int64\n",
      "funded_amnt_inv            38577 non-null float64\n",
      "term                       38577 non-null object\n",
      "int_rate                   38577 non-null float64\n",
      "installment                38577 non-null float64\n",
      "grade                      38577 non-null object\n",
      "emp_length                 38577 non-null object\n",
      "home_ownership             38577 non-null object\n",
      "annual_inc                 38577 non-null float64\n",
      "loan_status                38577 non-null object\n",
      "purpose                    38577 non-null object\n",
      "addr_state                 38577 non-null object\n",
      "dti                        38577 non-null float64\n",
      "delinq_2yrs                38577 non-null int64\n",
      "earliest_cr_line           38577 non-null datetime64[ns]\n",
      "inq_last_6mths             38577 non-null int64\n",
      "open_acc                   38577 non-null int64\n",
      "pub_rec                    38577 non-null int64\n",
      "revol_bal                  38577 non-null int64\n",
      "total_acc                  38577 non-null int64\n",
      "total_pymnt                38577 non-null float64\n",
      "total_pymnt_inv            38577 non-null float64\n",
      "total_rec_prncp            38577 non-null float64\n",
      "total_rec_int              38577 non-null float64\n",
      "total_rec_late_fee         38577 non-null float64\n",
      "recoveries                 38577 non-null float64\n",
      "collection_recovery_fee    38577 non-null float64\n",
      "last_pymnt_d               38506 non-null datetime64[ns]\n",
      "last_pymnt_amnt            38577 non-null float64\n",
      "last_credit_pull_d         38575 non-null datetime64[ns]\n",
      "pub_rec_bankruptcies       37880 non-null float64\n",
      "prncp_loss                 38577 non-null float64\n",
      "loan_amnt_bin              38577 non-null category\n",
      "annual_inc_bin             38577 non-null category\n",
      "dti_bin                    38577 non-null int64\n",
      "dtypes: category(2), datetime64[ns](3), float64(15), int64(9), object(7)\n",
      "memory usage: 11.6+ MB\n"
     ]
    }
   ],
   "source": [
    "loanDetails.info()"
   ]
  },
  {
   "cell_type": "code",
   "execution_count": 173,
   "metadata": {},
   "outputs": [
    {
     "data": {
      "text/html": [
       "<div>\n",
       "<style scoped>\n",
       "    .dataframe tbody tr th:only-of-type {\n",
       "        vertical-align: middle;\n",
       "    }\n",
       "\n",
       "    .dataframe tbody tr th {\n",
       "        vertical-align: top;\n",
       "    }\n",
       "\n",
       "    .dataframe thead th {\n",
       "        text-align: right;\n",
       "    }\n",
       "</style>\n",
       "<table border=\"1\" class=\"dataframe\">\n",
       "  <thead>\n",
       "    <tr style=\"text-align: right;\">\n",
       "      <th></th>\n",
       "      <th>loan_amnt</th>\n",
       "      <th>funded_amnt</th>\n",
       "      <th>funded_amnt_inv</th>\n",
       "      <th>int_rate</th>\n",
       "      <th>installment</th>\n",
       "      <th>annual_inc</th>\n",
       "      <th>dti</th>\n",
       "      <th>delinq_2yrs</th>\n",
       "      <th>inq_last_6mths</th>\n",
       "      <th>open_acc</th>\n",
       "      <th>...</th>\n",
       "      <th>total_pymnt_inv</th>\n",
       "      <th>total_rec_prncp</th>\n",
       "      <th>total_rec_int</th>\n",
       "      <th>total_rec_late_fee</th>\n",
       "      <th>recoveries</th>\n",
       "      <th>collection_recovery_fee</th>\n",
       "      <th>last_pymnt_amnt</th>\n",
       "      <th>pub_rec_bankruptcies</th>\n",
       "      <th>prncp_loss</th>\n",
       "      <th>dti_bin</th>\n",
       "    </tr>\n",
       "  </thead>\n",
       "  <tbody>\n",
       "    <tr>\n",
       "      <th>loan_amnt</th>\n",
       "      <td>1.000000</td>\n",
       "      <td>0.981790</td>\n",
       "      <td>0.937922</td>\n",
       "      <td>0.301265</td>\n",
       "      <td>0.932260</td>\n",
       "      <td>0.268999</td>\n",
       "      <td>0.062436</td>\n",
       "      <td>-0.031951</td>\n",
       "      <td>0.012940</td>\n",
       "      <td>0.177200</td>\n",
       "      <td>...</td>\n",
       "      <td>0.847635</td>\n",
       "      <td>0.845870</td>\n",
       "      <td>0.728343</td>\n",
       "      <td>0.047103</td>\n",
       "      <td>0.142789</td>\n",
       "      <td>0.077005</td>\n",
       "      <td>0.474614</td>\n",
       "      <td>-0.035981</td>\n",
       "      <td>0.280749</td>\n",
       "      <td>0.059426</td>\n",
       "    </tr>\n",
       "    <tr>\n",
       "      <th>funded_amnt</th>\n",
       "      <td>0.981790</td>\n",
       "      <td>1.000000</td>\n",
       "      <td>0.956172</td>\n",
       "      <td>0.304930</td>\n",
       "      <td>0.958035</td>\n",
       "      <td>0.264798</td>\n",
       "      <td>0.062194</td>\n",
       "      <td>-0.031866</td>\n",
       "      <td>0.012857</td>\n",
       "      <td>0.175682</td>\n",
       "      <td>...</td>\n",
       "      <td>0.864501</td>\n",
       "      <td>0.864082</td>\n",
       "      <td>0.736654</td>\n",
       "      <td>0.049465</td>\n",
       "      <td>0.143452</td>\n",
       "      <td>0.078769</td>\n",
       "      <td>0.478448</td>\n",
       "      <td>-0.036995</td>\n",
       "      <td>0.281146</td>\n",
       "      <td>0.059134</td>\n",
       "    </tr>\n",
       "    <tr>\n",
       "      <th>funded_amnt_inv</th>\n",
       "      <td>0.937922</td>\n",
       "      <td>0.956172</td>\n",
       "      <td>1.000000</td>\n",
       "      <td>0.297473</td>\n",
       "      <td>0.905464</td>\n",
       "      <td>0.251981</td>\n",
       "      <td>0.070663</td>\n",
       "      <td>-0.038171</td>\n",
       "      <td>-0.002800</td>\n",
       "      <td>0.162738</td>\n",
       "      <td>...</td>\n",
       "      <td>0.909127</td>\n",
       "      <td>0.838587</td>\n",
       "      <td>0.726736</td>\n",
       "      <td>0.029379</td>\n",
       "      <td>0.130997</td>\n",
       "      <td>0.064282</td>\n",
       "      <td>0.469166</td>\n",
       "      <td>-0.041193</td>\n",
       "      <td>0.245228</td>\n",
       "      <td>0.067393</td>\n",
       "    </tr>\n",
       "    <tr>\n",
       "      <th>int_rate</th>\n",
       "      <td>0.301265</td>\n",
       "      <td>0.304930</td>\n",
       "      <td>0.297473</td>\n",
       "      <td>1.000000</td>\n",
       "      <td>0.277203</td>\n",
       "      <td>0.048899</td>\n",
       "      <td>0.110913</td>\n",
       "      <td>0.158479</td>\n",
       "      <td>0.133362</td>\n",
       "      <td>0.006022</td>\n",
       "      <td>...</td>\n",
       "      <td>0.284932</td>\n",
       "      <td>0.174717</td>\n",
       "      <td>0.521233</td>\n",
       "      <td>0.094319</td>\n",
       "      <td>0.128596</td>\n",
       "      <td>0.070013</td>\n",
       "      <td>0.174377</td>\n",
       "      <td>0.083027</td>\n",
       "      <td>0.254969</td>\n",
       "      <td>0.107722</td>\n",
       "    </tr>\n",
       "    <tr>\n",
       "      <th>installment</th>\n",
       "      <td>0.932260</td>\n",
       "      <td>0.958035</td>\n",
       "      <td>0.905464</td>\n",
       "      <td>0.277203</td>\n",
       "      <td>1.000000</td>\n",
       "      <td>0.267842</td>\n",
       "      <td>0.052038</td>\n",
       "      <td>-0.019755</td>\n",
       "      <td>0.011014</td>\n",
       "      <td>0.172893</td>\n",
       "      <td>...</td>\n",
       "      <td>0.817665</td>\n",
       "      <td>0.847762</td>\n",
       "      <td>0.642655</td>\n",
       "      <td>0.058387</td>\n",
       "      <td>0.121463</td>\n",
       "      <td>0.077519</td>\n",
       "      <td>0.413588</td>\n",
       "      <td>-0.033361</td>\n",
       "      <td>0.231330</td>\n",
       "      <td>0.048968</td>\n",
       "    </tr>\n",
       "    <tr>\n",
       "      <th>annual_inc</th>\n",
       "      <td>0.268999</td>\n",
       "      <td>0.264798</td>\n",
       "      <td>0.251981</td>\n",
       "      <td>0.048899</td>\n",
       "      <td>0.267842</td>\n",
       "      <td>1.000000</td>\n",
       "      <td>-0.121530</td>\n",
       "      <td>0.022229</td>\n",
       "      <td>0.035465</td>\n",
       "      <td>0.156927</td>\n",
       "      <td>...</td>\n",
       "      <td>0.245198</td>\n",
       "      <td>0.256848</td>\n",
       "      <td>0.185056</td>\n",
       "      <td>0.006814</td>\n",
       "      <td>0.022184</td>\n",
       "      <td>0.015981</td>\n",
       "      <td>0.143242</td>\n",
       "      <td>-0.016224</td>\n",
       "      <td>0.020987</td>\n",
       "      <td>-0.113777</td>\n",
       "    </tr>\n",
       "    <tr>\n",
       "      <th>dti</th>\n",
       "      <td>0.062436</td>\n",
       "      <td>0.062194</td>\n",
       "      <td>0.070663</td>\n",
       "      <td>0.110913</td>\n",
       "      <td>0.052038</td>\n",
       "      <td>-0.121530</td>\n",
       "      <td>1.000000</td>\n",
       "      <td>-0.033347</td>\n",
       "      <td>0.002178</td>\n",
       "      <td>0.287849</td>\n",
       "      <td>...</td>\n",
       "      <td>0.066277</td>\n",
       "      <td>0.036755</td>\n",
       "      <td>0.103104</td>\n",
       "      <td>-0.011412</td>\n",
       "      <td>0.026162</td>\n",
       "      <td>0.011744</td>\n",
       "      <td>0.008566</td>\n",
       "      <td>0.005966</td>\n",
       "      <td>0.049870</td>\n",
       "      <td>0.965991</td>\n",
       "    </tr>\n",
       "    <tr>\n",
       "      <th>delinq_2yrs</th>\n",
       "      <td>-0.031951</td>\n",
       "      <td>-0.031866</td>\n",
       "      <td>-0.038171</td>\n",
       "      <td>0.158479</td>\n",
       "      <td>-0.019755</td>\n",
       "      <td>0.022229</td>\n",
       "      <td>-0.033347</td>\n",
       "      <td>1.000000</td>\n",
       "      <td>0.008733</td>\n",
       "      <td>0.011649</td>\n",
       "      <td>...</td>\n",
       "      <td>-0.029608</td>\n",
       "      <td>-0.038447</td>\n",
       "      <td>0.023778</td>\n",
       "      <td>0.028772</td>\n",
       "      <td>0.012443</td>\n",
       "      <td>0.014077</td>\n",
       "      <td>-0.012511</td>\n",
       "      <td>0.003404</td>\n",
       "      <td>0.011846</td>\n",
       "      <td>-0.034535</td>\n",
       "    </tr>\n",
       "    <tr>\n",
       "      <th>inq_last_6mths</th>\n",
       "      <td>0.012940</td>\n",
       "      <td>0.012857</td>\n",
       "      <td>-0.002800</td>\n",
       "      <td>0.133362</td>\n",
       "      <td>0.011014</td>\n",
       "      <td>0.035465</td>\n",
       "      <td>0.002178</td>\n",
       "      <td>0.008733</td>\n",
       "      <td>1.000000</td>\n",
       "      <td>0.093434</td>\n",
       "      <td>...</td>\n",
       "      <td>-0.018589</td>\n",
       "      <td>-0.021328</td>\n",
       "      <td>0.026549</td>\n",
       "      <td>0.030741</td>\n",
       "      <td>0.018899</td>\n",
       "      <td>0.012388</td>\n",
       "      <td>0.027772</td>\n",
       "      <td>0.015517</td>\n",
       "      <td>0.065458</td>\n",
       "      <td>0.002151</td>\n",
       "    </tr>\n",
       "    <tr>\n",
       "      <th>open_acc</th>\n",
       "      <td>0.177200</td>\n",
       "      <td>0.175682</td>\n",
       "      <td>0.162738</td>\n",
       "      <td>0.006022</td>\n",
       "      <td>0.172893</td>\n",
       "      <td>0.156927</td>\n",
       "      <td>0.287849</td>\n",
       "      <td>0.011649</td>\n",
       "      <td>0.093434</td>\n",
       "      <td>1.000000</td>\n",
       "      <td>...</td>\n",
       "      <td>0.152008</td>\n",
       "      <td>0.159997</td>\n",
       "      <td>0.123478</td>\n",
       "      <td>-0.018827</td>\n",
       "      <td>0.017241</td>\n",
       "      <td>0.006674</td>\n",
       "      <td>0.082396</td>\n",
       "      <td>0.005803</td>\n",
       "      <td>0.033771</td>\n",
       "      <td>0.274191</td>\n",
       "    </tr>\n",
       "    <tr>\n",
       "      <th>pub_rec</th>\n",
       "      <td>-0.049997</td>\n",
       "      <td>-0.050576</td>\n",
       "      <td>-0.051470</td>\n",
       "      <td>0.098635</td>\n",
       "      <td>-0.045706</td>\n",
       "      <td>-0.017864</td>\n",
       "      <td>-0.004742</td>\n",
       "      <td>0.007623</td>\n",
       "      <td>0.023726</td>\n",
       "      <td>0.000028</td>\n",
       "      <td>...</td>\n",
       "      <td>-0.053077</td>\n",
       "      <td>-0.064362</td>\n",
       "      <td>-0.004312</td>\n",
       "      <td>-0.002108</td>\n",
       "      <td>-0.005800</td>\n",
       "      <td>-0.005731</td>\n",
       "      <td>-0.033440</td>\n",
       "      <td>0.845938</td>\n",
       "      <td>0.025171</td>\n",
       "      <td>-0.008199</td>\n",
       "    </tr>\n",
       "    <tr>\n",
       "      <th>revol_bal</th>\n",
       "      <td>0.314022</td>\n",
       "      <td>0.306501</td>\n",
       "      <td>0.286265</td>\n",
       "      <td>0.094179</td>\n",
       "      <td>0.309501</td>\n",
       "      <td>0.277374</td>\n",
       "      <td>0.228090</td>\n",
       "      <td>-0.054437</td>\n",
       "      <td>-0.020787</td>\n",
       "      <td>0.288055</td>\n",
       "      <td>...</td>\n",
       "      <td>0.273033</td>\n",
       "      <td>0.276761</td>\n",
       "      <td>0.241979</td>\n",
       "      <td>0.005853</td>\n",
       "      <td>0.043593</td>\n",
       "      <td>0.023254</td>\n",
       "      <td>0.125315</td>\n",
       "      <td>-0.048572</td>\n",
       "      <td>0.063446</td>\n",
       "      <td>0.216936</td>\n",
       "    </tr>\n",
       "    <tr>\n",
       "      <th>total_acc</th>\n",
       "      <td>0.256179</td>\n",
       "      <td>0.250551</td>\n",
       "      <td>0.242715</td>\n",
       "      <td>-0.046539</td>\n",
       "      <td>0.229860</td>\n",
       "      <td>0.234534</td>\n",
       "      <td>0.229119</td>\n",
       "      <td>0.066994</td>\n",
       "      <td>0.113516</td>\n",
       "      <td>0.687260</td>\n",
       "      <td>...</td>\n",
       "      <td>0.219403</td>\n",
       "      <td>0.230140</td>\n",
       "      <td>0.148772</td>\n",
       "      <td>-0.024376</td>\n",
       "      <td>0.024024</td>\n",
       "      <td>0.010952</td>\n",
       "      <td>0.166888</td>\n",
       "      <td>-0.011060</td>\n",
       "      <td>0.044430</td>\n",
       "      <td>0.219019</td>\n",
       "    </tr>\n",
       "    <tr>\n",
       "      <th>total_pymnt</th>\n",
       "      <td>0.881910</td>\n",
       "      <td>0.898709</td>\n",
       "      <td>0.874730</td>\n",
       "      <td>0.290661</td>\n",
       "      <td>0.858493</td>\n",
       "      <td>0.256313</td>\n",
       "      <td>0.059274</td>\n",
       "      <td>-0.023130</td>\n",
       "      <td>-0.008244</td>\n",
       "      <td>0.162141</td>\n",
       "      <td>...</td>\n",
       "      <td>0.968580</td>\n",
       "      <td>0.973542</td>\n",
       "      <td>0.822434</td>\n",
       "      <td>0.014293</td>\n",
       "      <td>0.029515</td>\n",
       "      <td>0.028329</td>\n",
       "      <td>0.511535</td>\n",
       "      <td>-0.043163</td>\n",
       "      <td>-0.122890</td>\n",
       "      <td>0.056214</td>\n",
       "    </tr>\n",
       "    <tr>\n",
       "      <th>total_pymnt_inv</th>\n",
       "      <td>0.847635</td>\n",
       "      <td>0.864501</td>\n",
       "      <td>0.909127</td>\n",
       "      <td>0.284932</td>\n",
       "      <td>0.817665</td>\n",
       "      <td>0.245198</td>\n",
       "      <td>0.066277</td>\n",
       "      <td>-0.029608</td>\n",
       "      <td>-0.018589</td>\n",
       "      <td>0.152008</td>\n",
       "      <td>...</td>\n",
       "      <td>1.000000</td>\n",
       "      <td>0.940299</td>\n",
       "      <td>0.805936</td>\n",
       "      <td>-0.000048</td>\n",
       "      <td>0.023406</td>\n",
       "      <td>0.018542</td>\n",
       "      <td>0.500067</td>\n",
       "      <td>-0.046436</td>\n",
       "      <td>-0.125484</td>\n",
       "      <td>0.063042</td>\n",
       "    </tr>\n",
       "    <tr>\n",
       "      <th>total_rec_prncp</th>\n",
       "      <td>0.845870</td>\n",
       "      <td>0.864082</td>\n",
       "      <td>0.838587</td>\n",
       "      <td>0.174717</td>\n",
       "      <td>0.847762</td>\n",
       "      <td>0.256848</td>\n",
       "      <td>0.036755</td>\n",
       "      <td>-0.038447</td>\n",
       "      <td>-0.021328</td>\n",
       "      <td>0.159997</td>\n",
       "      <td>...</td>\n",
       "      <td>0.940299</td>\n",
       "      <td>1.000000</td>\n",
       "      <td>0.683521</td>\n",
       "      <td>-0.019563</td>\n",
       "      <td>-0.094106</td>\n",
       "      <td>-0.058224</td>\n",
       "      <td>0.567463</td>\n",
       "      <td>-0.053316</td>\n",
       "      <td>-0.240115</td>\n",
       "      <td>0.034637</td>\n",
       "    </tr>\n",
       "    <tr>\n",
       "      <th>total_rec_int</th>\n",
       "      <td>0.728343</td>\n",
       "      <td>0.736654</td>\n",
       "      <td>0.726736</td>\n",
       "      <td>0.521233</td>\n",
       "      <td>0.642655</td>\n",
       "      <td>0.185056</td>\n",
       "      <td>0.103104</td>\n",
       "      <td>0.023778</td>\n",
       "      <td>0.026549</td>\n",
       "      <td>0.123478</td>\n",
       "      <td>...</td>\n",
       "      <td>0.805936</td>\n",
       "      <td>0.683521</td>\n",
       "      <td>1.000000</td>\n",
       "      <td>0.077506</td>\n",
       "      <td>0.092178</td>\n",
       "      <td>0.041989</td>\n",
       "      <td>0.242726</td>\n",
       "      <td>-0.001412</td>\n",
       "      <td>0.117516</td>\n",
       "      <td>0.098507</td>\n",
       "    </tr>\n",
       "    <tr>\n",
       "      <th>total_rec_late_fee</th>\n",
       "      <td>0.047103</td>\n",
       "      <td>0.049465</td>\n",
       "      <td>0.029379</td>\n",
       "      <td>0.094319</td>\n",
       "      <td>0.058387</td>\n",
       "      <td>0.006814</td>\n",
       "      <td>-0.011412</td>\n",
       "      <td>0.028772</td>\n",
       "      <td>0.030741</td>\n",
       "      <td>-0.018827</td>\n",
       "      <td>...</td>\n",
       "      <td>-0.000048</td>\n",
       "      <td>-0.019563</td>\n",
       "      <td>0.077506</td>\n",
       "      <td>1.000000</td>\n",
       "      <td>0.100952</td>\n",
       "      <td>0.094155</td>\n",
       "      <td>-0.061918</td>\n",
       "      <td>-0.005759</td>\n",
       "      <td>0.132696</td>\n",
       "      <td>-0.008485</td>\n",
       "    </tr>\n",
       "    <tr>\n",
       "      <th>recoveries</th>\n",
       "      <td>0.142789</td>\n",
       "      <td>0.143452</td>\n",
       "      <td>0.130997</td>\n",
       "      <td>0.128596</td>\n",
       "      <td>0.121463</td>\n",
       "      <td>0.022184</td>\n",
       "      <td>0.026162</td>\n",
       "      <td>0.012443</td>\n",
       "      <td>0.018899</td>\n",
       "      <td>0.017241</td>\n",
       "      <td>...</td>\n",
       "      <td>0.023406</td>\n",
       "      <td>-0.094106</td>\n",
       "      <td>0.092178</td>\n",
       "      <td>0.100952</td>\n",
       "      <td>1.000000</td>\n",
       "      <td>0.796782</td>\n",
       "      <td>-0.072356</td>\n",
       "      <td>-0.004866</td>\n",
       "      <td>0.456075</td>\n",
       "      <td>0.024529</td>\n",
       "    </tr>\n",
       "    <tr>\n",
       "      <th>collection_recovery_fee</th>\n",
       "      <td>0.077005</td>\n",
       "      <td>0.078769</td>\n",
       "      <td>0.064282</td>\n",
       "      <td>0.070013</td>\n",
       "      <td>0.077519</td>\n",
       "      <td>0.015981</td>\n",
       "      <td>0.011744</td>\n",
       "      <td>0.014077</td>\n",
       "      <td>0.012388</td>\n",
       "      <td>0.006674</td>\n",
       "      <td>...</td>\n",
       "      <td>0.018542</td>\n",
       "      <td>-0.058224</td>\n",
       "      <td>0.041989</td>\n",
       "      <td>0.094155</td>\n",
       "      <td>0.796782</td>\n",
       "      <td>1.000000</td>\n",
       "      <td>-0.043314</td>\n",
       "      <td>-0.005370</td>\n",
       "      <td>0.262920</td>\n",
       "      <td>0.010885</td>\n",
       "    </tr>\n",
       "    <tr>\n",
       "      <th>last_pymnt_amnt</th>\n",
       "      <td>0.474614</td>\n",
       "      <td>0.478448</td>\n",
       "      <td>0.469166</td>\n",
       "      <td>0.174377</td>\n",
       "      <td>0.413588</td>\n",
       "      <td>0.143242</td>\n",
       "      <td>0.008566</td>\n",
       "      <td>-0.012511</td>\n",
       "      <td>0.027772</td>\n",
       "      <td>0.082396</td>\n",
       "      <td>...</td>\n",
       "      <td>0.500067</td>\n",
       "      <td>0.567463</td>\n",
       "      <td>0.242726</td>\n",
       "      <td>-0.061918</td>\n",
       "      <td>-0.072356</td>\n",
       "      <td>-0.043314</td>\n",
       "      <td>1.000000</td>\n",
       "      <td>-0.023483</td>\n",
       "      <td>-0.159180</td>\n",
       "      <td>0.009835</td>\n",
       "    </tr>\n",
       "    <tr>\n",
       "      <th>pub_rec_bankruptcies</th>\n",
       "      <td>-0.035981</td>\n",
       "      <td>-0.036995</td>\n",
       "      <td>-0.041193</td>\n",
       "      <td>0.083027</td>\n",
       "      <td>-0.033361</td>\n",
       "      <td>-0.016224</td>\n",
       "      <td>0.005966</td>\n",
       "      <td>0.003404</td>\n",
       "      <td>0.015517</td>\n",
       "      <td>0.005803</td>\n",
       "      <td>...</td>\n",
       "      <td>-0.046436</td>\n",
       "      <td>-0.053316</td>\n",
       "      <td>-0.001412</td>\n",
       "      <td>-0.005759</td>\n",
       "      <td>-0.004866</td>\n",
       "      <td>-0.005370</td>\n",
       "      <td>-0.023483</td>\n",
       "      <td>1.000000</td>\n",
       "      <td>0.030435</td>\n",
       "      <td>0.003954</td>\n",
       "    </tr>\n",
       "    <tr>\n",
       "      <th>prncp_loss</th>\n",
       "      <td>0.280749</td>\n",
       "      <td>0.281146</td>\n",
       "      <td>0.245228</td>\n",
       "      <td>0.254969</td>\n",
       "      <td>0.231330</td>\n",
       "      <td>0.020987</td>\n",
       "      <td>0.049870</td>\n",
       "      <td>0.011846</td>\n",
       "      <td>0.065458</td>\n",
       "      <td>0.033771</td>\n",
       "      <td>...</td>\n",
       "      <td>-0.125484</td>\n",
       "      <td>-0.240115</td>\n",
       "      <td>0.117516</td>\n",
       "      <td>0.132696</td>\n",
       "      <td>0.456075</td>\n",
       "      <td>0.262920</td>\n",
       "      <td>-0.159180</td>\n",
       "      <td>0.030435</td>\n",
       "      <td>1.000000</td>\n",
       "      <td>0.048006</td>\n",
       "    </tr>\n",
       "    <tr>\n",
       "      <th>dti_bin</th>\n",
       "      <td>0.059426</td>\n",
       "      <td>0.059134</td>\n",
       "      <td>0.067393</td>\n",
       "      <td>0.107722</td>\n",
       "      <td>0.048968</td>\n",
       "      <td>-0.113777</td>\n",
       "      <td>0.965991</td>\n",
       "      <td>-0.034535</td>\n",
       "      <td>0.002151</td>\n",
       "      <td>0.274191</td>\n",
       "      <td>...</td>\n",
       "      <td>0.063042</td>\n",
       "      <td>0.034637</td>\n",
       "      <td>0.098507</td>\n",
       "      <td>-0.008485</td>\n",
       "      <td>0.024529</td>\n",
       "      <td>0.010885</td>\n",
       "      <td>0.009835</td>\n",
       "      <td>0.003954</td>\n",
       "      <td>0.048006</td>\n",
       "      <td>1.000000</td>\n",
       "    </tr>\n",
       "  </tbody>\n",
       "</table>\n",
       "<p>24 rows × 24 columns</p>\n",
       "</div>"
      ],
      "text/plain": [
       "                         loan_amnt  funded_amnt  funded_amnt_inv  int_rate  \\\n",
       "loan_amnt                 1.000000     0.981790         0.937922  0.301265   \n",
       "funded_amnt               0.981790     1.000000         0.956172  0.304930   \n",
       "funded_amnt_inv           0.937922     0.956172         1.000000  0.297473   \n",
       "int_rate                  0.301265     0.304930         0.297473  1.000000   \n",
       "installment               0.932260     0.958035         0.905464  0.277203   \n",
       "annual_inc                0.268999     0.264798         0.251981  0.048899   \n",
       "dti                       0.062436     0.062194         0.070663  0.110913   \n",
       "delinq_2yrs              -0.031951    -0.031866        -0.038171  0.158479   \n",
       "inq_last_6mths            0.012940     0.012857        -0.002800  0.133362   \n",
       "open_acc                  0.177200     0.175682         0.162738  0.006022   \n",
       "pub_rec                  -0.049997    -0.050576        -0.051470  0.098635   \n",
       "revol_bal                 0.314022     0.306501         0.286265  0.094179   \n",
       "total_acc                 0.256179     0.250551         0.242715 -0.046539   \n",
       "total_pymnt               0.881910     0.898709         0.874730  0.290661   \n",
       "total_pymnt_inv           0.847635     0.864501         0.909127  0.284932   \n",
       "total_rec_prncp           0.845870     0.864082         0.838587  0.174717   \n",
       "total_rec_int             0.728343     0.736654         0.726736  0.521233   \n",
       "total_rec_late_fee        0.047103     0.049465         0.029379  0.094319   \n",
       "recoveries                0.142789     0.143452         0.130997  0.128596   \n",
       "collection_recovery_fee   0.077005     0.078769         0.064282  0.070013   \n",
       "last_pymnt_amnt           0.474614     0.478448         0.469166  0.174377   \n",
       "pub_rec_bankruptcies     -0.035981    -0.036995        -0.041193  0.083027   \n",
       "prncp_loss                0.280749     0.281146         0.245228  0.254969   \n",
       "dti_bin                   0.059426     0.059134         0.067393  0.107722   \n",
       "\n",
       "                         installment  annual_inc       dti  delinq_2yrs  \\\n",
       "loan_amnt                   0.932260    0.268999  0.062436    -0.031951   \n",
       "funded_amnt                 0.958035    0.264798  0.062194    -0.031866   \n",
       "funded_amnt_inv             0.905464    0.251981  0.070663    -0.038171   \n",
       "int_rate                    0.277203    0.048899  0.110913     0.158479   \n",
       "installment                 1.000000    0.267842  0.052038    -0.019755   \n",
       "annual_inc                  0.267842    1.000000 -0.121530     0.022229   \n",
       "dti                         0.052038   -0.121530  1.000000    -0.033347   \n",
       "delinq_2yrs                -0.019755    0.022229 -0.033347     1.000000   \n",
       "inq_last_6mths              0.011014    0.035465  0.002178     0.008733   \n",
       "open_acc                    0.172893    0.156927  0.287849     0.011649   \n",
       "pub_rec                    -0.045706   -0.017864 -0.004742     0.007623   \n",
       "revol_bal                   0.309501    0.277374  0.228090    -0.054437   \n",
       "total_acc                   0.229860    0.234534  0.229119     0.066994   \n",
       "total_pymnt                 0.858493    0.256313  0.059274    -0.023130   \n",
       "total_pymnt_inv             0.817665    0.245198  0.066277    -0.029608   \n",
       "total_rec_prncp             0.847762    0.256848  0.036755    -0.038447   \n",
       "total_rec_int               0.642655    0.185056  0.103104     0.023778   \n",
       "total_rec_late_fee          0.058387    0.006814 -0.011412     0.028772   \n",
       "recoveries                  0.121463    0.022184  0.026162     0.012443   \n",
       "collection_recovery_fee     0.077519    0.015981  0.011744     0.014077   \n",
       "last_pymnt_amnt             0.413588    0.143242  0.008566    -0.012511   \n",
       "pub_rec_bankruptcies       -0.033361   -0.016224  0.005966     0.003404   \n",
       "prncp_loss                  0.231330    0.020987  0.049870     0.011846   \n",
       "dti_bin                     0.048968   -0.113777  0.965991    -0.034535   \n",
       "\n",
       "                         inq_last_6mths  open_acc    ...     total_pymnt_inv  \\\n",
       "loan_amnt                      0.012940  0.177200    ...            0.847635   \n",
       "funded_amnt                    0.012857  0.175682    ...            0.864501   \n",
       "funded_amnt_inv               -0.002800  0.162738    ...            0.909127   \n",
       "int_rate                       0.133362  0.006022    ...            0.284932   \n",
       "installment                    0.011014  0.172893    ...            0.817665   \n",
       "annual_inc                     0.035465  0.156927    ...            0.245198   \n",
       "dti                            0.002178  0.287849    ...            0.066277   \n",
       "delinq_2yrs                    0.008733  0.011649    ...           -0.029608   \n",
       "inq_last_6mths                 1.000000  0.093434    ...           -0.018589   \n",
       "open_acc                       0.093434  1.000000    ...            0.152008   \n",
       "pub_rec                        0.023726  0.000028    ...           -0.053077   \n",
       "revol_bal                     -0.020787  0.288055    ...            0.273033   \n",
       "total_acc                      0.113516  0.687260    ...            0.219403   \n",
       "total_pymnt                   -0.008244  0.162141    ...            0.968580   \n",
       "total_pymnt_inv               -0.018589  0.152008    ...            1.000000   \n",
       "total_rec_prncp               -0.021328  0.159997    ...            0.940299   \n",
       "total_rec_int                  0.026549  0.123478    ...            0.805936   \n",
       "total_rec_late_fee             0.030741 -0.018827    ...           -0.000048   \n",
       "recoveries                     0.018899  0.017241    ...            0.023406   \n",
       "collection_recovery_fee        0.012388  0.006674    ...            0.018542   \n",
       "last_pymnt_amnt                0.027772  0.082396    ...            0.500067   \n",
       "pub_rec_bankruptcies           0.015517  0.005803    ...           -0.046436   \n",
       "prncp_loss                     0.065458  0.033771    ...           -0.125484   \n",
       "dti_bin                        0.002151  0.274191    ...            0.063042   \n",
       "\n",
       "                         total_rec_prncp  total_rec_int  total_rec_late_fee  \\\n",
       "loan_amnt                       0.845870       0.728343            0.047103   \n",
       "funded_amnt                     0.864082       0.736654            0.049465   \n",
       "funded_amnt_inv                 0.838587       0.726736            0.029379   \n",
       "int_rate                        0.174717       0.521233            0.094319   \n",
       "installment                     0.847762       0.642655            0.058387   \n",
       "annual_inc                      0.256848       0.185056            0.006814   \n",
       "dti                             0.036755       0.103104           -0.011412   \n",
       "delinq_2yrs                    -0.038447       0.023778            0.028772   \n",
       "inq_last_6mths                 -0.021328       0.026549            0.030741   \n",
       "open_acc                        0.159997       0.123478           -0.018827   \n",
       "pub_rec                        -0.064362      -0.004312           -0.002108   \n",
       "revol_bal                       0.276761       0.241979            0.005853   \n",
       "total_acc                       0.230140       0.148772           -0.024376   \n",
       "total_pymnt                     0.973542       0.822434            0.014293   \n",
       "total_pymnt_inv                 0.940299       0.805936           -0.000048   \n",
       "total_rec_prncp                 1.000000       0.683521           -0.019563   \n",
       "total_rec_int                   0.683521       1.000000            0.077506   \n",
       "total_rec_late_fee             -0.019563       0.077506            1.000000   \n",
       "recoveries                     -0.094106       0.092178            0.100952   \n",
       "collection_recovery_fee        -0.058224       0.041989            0.094155   \n",
       "last_pymnt_amnt                 0.567463       0.242726           -0.061918   \n",
       "pub_rec_bankruptcies           -0.053316      -0.001412           -0.005759   \n",
       "prncp_loss                     -0.240115       0.117516            0.132696   \n",
       "dti_bin                         0.034637       0.098507           -0.008485   \n",
       "\n",
       "                         recoveries  collection_recovery_fee  last_pymnt_amnt  \\\n",
       "loan_amnt                  0.142789                 0.077005         0.474614   \n",
       "funded_amnt                0.143452                 0.078769         0.478448   \n",
       "funded_amnt_inv            0.130997                 0.064282         0.469166   \n",
       "int_rate                   0.128596                 0.070013         0.174377   \n",
       "installment                0.121463                 0.077519         0.413588   \n",
       "annual_inc                 0.022184                 0.015981         0.143242   \n",
       "dti                        0.026162                 0.011744         0.008566   \n",
       "delinq_2yrs                0.012443                 0.014077        -0.012511   \n",
       "inq_last_6mths             0.018899                 0.012388         0.027772   \n",
       "open_acc                   0.017241                 0.006674         0.082396   \n",
       "pub_rec                   -0.005800                -0.005731        -0.033440   \n",
       "revol_bal                  0.043593                 0.023254         0.125315   \n",
       "total_acc                  0.024024                 0.010952         0.166888   \n",
       "total_pymnt                0.029515                 0.028329         0.511535   \n",
       "total_pymnt_inv            0.023406                 0.018542         0.500067   \n",
       "total_rec_prncp           -0.094106                -0.058224         0.567463   \n",
       "total_rec_int              0.092178                 0.041989         0.242726   \n",
       "total_rec_late_fee         0.100952                 0.094155        -0.061918   \n",
       "recoveries                 1.000000                 0.796782        -0.072356   \n",
       "collection_recovery_fee    0.796782                 1.000000        -0.043314   \n",
       "last_pymnt_amnt           -0.072356                -0.043314         1.000000   \n",
       "pub_rec_bankruptcies      -0.004866                -0.005370        -0.023483   \n",
       "prncp_loss                 0.456075                 0.262920        -0.159180   \n",
       "dti_bin                    0.024529                 0.010885         0.009835   \n",
       "\n",
       "                         pub_rec_bankruptcies  prncp_loss   dti_bin  \n",
       "loan_amnt                           -0.035981    0.280749  0.059426  \n",
       "funded_amnt                         -0.036995    0.281146  0.059134  \n",
       "funded_amnt_inv                     -0.041193    0.245228  0.067393  \n",
       "int_rate                             0.083027    0.254969  0.107722  \n",
       "installment                         -0.033361    0.231330  0.048968  \n",
       "annual_inc                          -0.016224    0.020987 -0.113777  \n",
       "dti                                  0.005966    0.049870  0.965991  \n",
       "delinq_2yrs                          0.003404    0.011846 -0.034535  \n",
       "inq_last_6mths                       0.015517    0.065458  0.002151  \n",
       "open_acc                             0.005803    0.033771  0.274191  \n",
       "pub_rec                              0.845938    0.025171 -0.008199  \n",
       "revol_bal                           -0.048572    0.063446  0.216936  \n",
       "total_acc                           -0.011060    0.044430  0.219019  \n",
       "total_pymnt                         -0.043163   -0.122890  0.056214  \n",
       "total_pymnt_inv                     -0.046436   -0.125484  0.063042  \n",
       "total_rec_prncp                     -0.053316   -0.240115  0.034637  \n",
       "total_rec_int                       -0.001412    0.117516  0.098507  \n",
       "total_rec_late_fee                  -0.005759    0.132696 -0.008485  \n",
       "recoveries                          -0.004866    0.456075  0.024529  \n",
       "collection_recovery_fee             -0.005370    0.262920  0.010885  \n",
       "last_pymnt_amnt                     -0.023483   -0.159180  0.009835  \n",
       "pub_rec_bankruptcies                 1.000000    0.030435  0.003954  \n",
       "prncp_loss                           0.030435    1.000000  0.048006  \n",
       "dti_bin                              0.003954    0.048006  1.000000  \n",
       "\n",
       "[24 rows x 24 columns]"
      ]
     },
     "execution_count": 173,
     "metadata": {},
     "output_type": "execute_result"
    }
   ],
   "source": [
    "#find correlation between the quantitative/numerical variables. Identify groups of closely related variables\n",
    "loanDetails.corr()"
   ]
  },
  {
   "cell_type": "code",
   "execution_count": 174,
   "metadata": {},
   "outputs": [
    {
     "data": {
      "text/plain": [
       "<matplotlib.axes._subplots.AxesSubplot at 0x20f2daac630>"
      ]
     },
     "execution_count": 174,
     "metadata": {},
     "output_type": "execute_result"
    },
    {
     "data": {
      "image/png": "[encoded data removed]",
      "text/plain": [
       "<Figure size 432x288 with 2 Axes>"
      ]
     },
     "metadata": {},
     "output_type": "display_data"
    }
   ],
   "source": [
    "sns.heatmap(loanDetails.corr(),cmap=\"YlGnBu\")"
   ]
  },
  {
   "cell_type": "markdown",
   "metadata": {},
   "source": [
    "From the above the following have a strong correlation and so pick one from the set\n",
    "- loan_amnt, funded_amnt, funded_amnt_inv, installment :analyse 'loan_amnt'\n",
    "- total_pymnt, total_pymnt_inv, total_rec_prncp, total_rec_int:analyse 'total_pymnt'\n",
    "\n",
    "Following are post charged_off actions, hence can't help identify risky loan applications\n",
    "- recoveries, collection_recovery_fee :delete these columns\n",
    "\n",
    "Following have strong correlation only with each other\n",
    "- pub_rec, pub_rec_bankruptcies :delete\n",
    "\n",
    "-delinq_2yrs, inq_last_6mnths :delete have no significance to the analysis"
   ]
  },
  {
   "cell_type": "code",
   "execution_count": 175,
   "metadata": {},
   "outputs": [],
   "source": [
    "loanDetails.drop(['funded_amnt', 'funded_amnt_inv', 'installment','total_pymnt_inv', 'total_rec_prncp', 'total_rec_int','recoveries', 'collection_recovery_fee', 'pub_rec', 'pub_rec_bankruptcies', 'delinq_2yrs', 'inq_last_6mths'], axis=1,inplace=True)"
   ]
  },
  {
   "cell_type": "markdown",
   "metadata": {},
   "source": [
    "### Charged_off loans: \n",
    "- loan_amnt vs term, grade, purpose, addr_state\n",
    "- dti vs term, grade, purpose, addr_state\n",
    "- loan_amt vs annual_inc\n"
   ]
  },
  {
   "cell_type": "code",
   "execution_count": 176,
   "metadata": {},
   "outputs": [
    {
     "data": {
      "text/plain": [
       "term        grade\n",
       " 36 months  A        565\n",
       "            B        985\n",
       "            C        844\n",
       "            D        580\n",
       "            E        176\n",
       "            F         56\n",
       "            G         21\n",
       " 60 months  A         37\n",
       "            B        440\n",
       "            C        503\n",
       "            D        538\n",
       "            E        539\n",
       "            F        263\n",
       "            G         80\n",
       "dtype: int64"
      ]
     },
     "execution_count": 176,
     "metadata": {},
     "output_type": "execute_result"
    }
   ],
   "source": [
    "# Compare the term Vs grade\n",
    "loanDetails[(loanDetails.loan_status==\"Charged Off\")].groupby(['term','grade']).size()"
   ]
  },
  {
   "cell_type": "code",
   "execution_count": 177,
   "metadata": {},
   "outputs": [
    {
     "data": {
      "text/plain": [
       "term        purpose           \n",
       " 36 months  car                     82\n",
       "            credit_card            318\n",
       "            debt_consolidation    1469\n",
       "            educational             49\n",
       "            home_improvement       205\n",
       "            house                   28\n",
       "            major_purchase         137\n",
       "            medical                 71\n",
       "            moving                  74\n",
       "            other                  414\n",
       "            renewable_energy        13\n",
       "            small_business         269\n",
       "            vacation                38\n",
       "            wedding                 60\n",
       " 60 months  car                     78\n",
       "            credit_card            224\n",
       "            debt_consolidation    1298\n",
       "            educational              7\n",
       "            home_improvement       142\n",
       "            house                   31\n",
       "            major_purchase          85\n",
       "            medical                 35\n",
       "            moving                  18\n",
       "            other                  219\n",
       "            renewable_energy         6\n",
       "            small_business         206\n",
       "            vacation                15\n",
       "            wedding                 36\n",
       "dtype: int64"
      ]
     },
     "execution_count": 177,
     "metadata": {},
     "output_type": "execute_result"
    }
   ],
   "source": [
    "# Compare term vs purpose\n",
    "loanDetails[(loanDetails.loan_status==\"Charged Off\")].groupby(['term','purpose']).size()"
   ]
  },
  {
   "cell_type": "code",
   "execution_count": 178,
   "metadata": {},
   "outputs": [
    {
     "data": {
      "text/plain": [
       "loan_amnt_bin       annual_inc_bin       \n",
       "(0.0, 5000.0]       (3999.999, 30000.0]      426\n",
       "                    (30000.0, 37196.16]      164\n",
       "                    (37196.16, 44500.0]      177\n",
       "                    (44500.0, 50004.0]       154\n",
       "                    (50004.0, 58868.0]       109\n",
       "                    (58868.0, 65004.0]        93\n",
       "                    (65004.0, 75000.0]        73\n",
       "                    (75000.0, 90000.0]        52\n",
       "                    (90000.0, 115000.0]       36\n",
       "                    (115000.0, 6000000.0]     30\n",
       "(5000.0, 10000.0]   (3999.999, 30000.0]      308\n",
       "                    (30000.0, 37196.16]      219\n",
       "                    (37196.16, 44500.0]      208\n",
       "                    (44500.0, 50004.0]       179\n",
       "                    (50004.0, 58868.0]       158\n",
       "                    (58868.0, 65004.0]       171\n",
       "                    (65004.0, 75000.0]       130\n",
       "                    (75000.0, 90000.0]        99\n",
       "                    (90000.0, 115000.0]       88\n",
       "                    (115000.0, 6000000.0]     82\n",
       "(10000.0, 15000.0]  (3999.999, 30000.0]       91\n",
       "                    (30000.0, 37196.16]      135\n",
       "                    (37196.16, 44500.0]      142\n",
       "                    (44500.0, 50004.0]       114\n",
       "                    (50004.0, 58868.0]       104\n",
       "                    (58868.0, 65004.0]       117\n",
       "                    (65004.0, 75000.0]       118\n",
       "                    (75000.0, 90000.0]       109\n",
       "                    (90000.0, 115000.0]       59\n",
       "                    (115000.0, 6000000.0]     66\n",
       "                                            ... \n",
       "(15000.0, 20000.0]  (65004.0, 75000.0]        85\n",
       "                    (75000.0, 90000.0]        97\n",
       "                    (90000.0, 115000.0]       64\n",
       "                    (115000.0, 6000000.0]     58\n",
       "(20000.0, 25000.0]  (3999.999, 30000.0]        2\n",
       "                    (30000.0, 37196.16]        9\n",
       "                    (37196.16, 44500.0]       25\n",
       "                    (44500.0, 50004.0]        57\n",
       "                    (50004.0, 58868.0]        44\n",
       "                    (58868.0, 65004.0]        58\n",
       "                    (65004.0, 75000.0]        67\n",
       "                    (75000.0, 90000.0]        89\n",
       "                    (90000.0, 115000.0]       81\n",
       "                    (115000.0, 6000000.0]    110\n",
       "(25000.0, 30000.0]  (37196.16, 44500.0]        1\n",
       "                    (44500.0, 50004.0]         6\n",
       "                    (50004.0, 58868.0]        21\n",
       "                    (58868.0, 65004.0]        18\n",
       "                    (65004.0, 75000.0]        18\n",
       "                    (75000.0, 90000.0]        21\n",
       "                    (90000.0, 115000.0]       23\n",
       "                    (115000.0, 6000000.0]     35\n",
       "(30000.0, 35000.0]  (37196.16, 44500.0]        1\n",
       "                    (44500.0, 50004.0]         1\n",
       "                    (50004.0, 58868.0]         8\n",
       "                    (58868.0, 65004.0]        14\n",
       "                    (65004.0, 75000.0]        27\n",
       "                    (75000.0, 90000.0]        43\n",
       "                    (90000.0, 115000.0]       38\n",
       "                    (115000.0, 6000000.0]     48\n",
       "Length: 66, dtype: int64"
      ]
     },
     "execution_count": 178,
     "metadata": {},
     "output_type": "execute_result"
    }
   ],
   "source": [
    "# Compare loan_amnt vs annual_inc Use the bins for each \n",
    "loanDetails[(loanDetails.loan_status==\"Charged Off\")].groupby(['loan_amnt_bin','annual_inc_bin']).size()"
   ]
  }
 ],
 "metadata": {
  "kernelspec": {
   "display_name": "Python 3",
   "language": "python",
   "name": "python3"
  },
  "language_info": {
   "codemirror_mode": {
    "name": "ipython",
    "version": 3
   },
   "file_extension": ".py",
   "mimetype": "text/x-python",
   "name": "python",
   "nbconvert_exporter": "python",
   "pygments_lexer": "ipython3",
   "version": "3.6.5"
  }
 },
 "nbformat": 4,
 "nbformat_minor": 2
}
